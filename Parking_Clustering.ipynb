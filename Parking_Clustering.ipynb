{
 "cells": [
  {
   "cell_type": "code",
   "execution_count": 67,
   "id": "22933a08",
   "metadata": {},
   "outputs": [],
   "source": [
    "import pandas as pd\n",
    "import numpy as np\n",
    "import matplotlib.pyplot as plt\n",
    "from sklearn.cluster import KMeans\n",
    "from sklearn.decomposition import PCA"
   ]
  },
  {
   "cell_type": "code",
   "execution_count": 2,
   "id": "cbf08201",
   "metadata": {},
   "outputs": [],
   "source": [
    "occ_diff = pd.read_csv('difference_occupancy.csv')"
   ]
  },
  {
   "cell_type": "code",
   "execution_count": 9,
   "id": "6c5c558d",
   "metadata": {},
   "outputs": [
    {
     "data": {
      "text/html": [
       "<div>\n",
       "<style scoped>\n",
       "    .dataframe tbody tr th:only-of-type {\n",
       "        vertical-align: middle;\n",
       "    }\n",
       "\n",
       "    .dataframe tbody tr th {\n",
       "        vertical-align: top;\n",
       "    }\n",
       "\n",
       "    .dataframe thead th {\n",
       "        text-align: right;\n",
       "    }\n",
       "</style>\n",
       "<table border=\"1\" class=\"dataframe\">\n",
       "  <thead>\n",
       "    <tr style=\"text-align: right;\">\n",
       "      <th></th>\n",
       "      <th>Unnamed: 0</th>\n",
       "      <th>11TH AVE NE BETWEEN NE 47TH ST AND NE 50TH ST</th>\n",
       "      <th>15TH AVE NE BETWEEN NE 43RD ST AND NE 45TH ST</th>\n",
       "      <th>1ST AVE BETWEEN BELL ST AND BATTERY ST</th>\n",
       "      <th>2ND AVE BETWEEN LENORA ST AND BLANCHARD ST</th>\n",
       "      <th>6TH AVE N BETWEEN JOHN ST AND THOMAS ST</th>\n",
       "      <th>7TH AVE BETWEEN OLIVE WAY AND STEWART ST</th>\n",
       "      <th>BOYLSTON AVE BETWEEN E PIKE ST AND E PINE ST</th>\n",
       "      <th>EASTLAKE AVE E BETWEEN ALOHA ST AND WARD ST</th>\n",
       "      <th>FAIRVIEW AVE N BETWEEN JOHN ST AND THOMAS ST</th>\n",
       "      <th>FAIRVIEW NR AVE N BETWEEN FAIRVIEW PL N AND ALOHA ST</th>\n",
       "      <th>MINOR AVE BETWEEN HOWELL ST AND STEWART ST</th>\n",
       "      <th>ROY ST BETWEEN FAIRVIEW AVE N AND MINOR AVE N</th>\n",
       "    </tr>\n",
       "  </thead>\n",
       "  <tbody>\n",
       "    <tr>\n",
       "      <th>0</th>\n",
       "      <td>2022-03-21 08:00:00</td>\n",
       "      <td>0.342</td>\n",
       "      <td>0.140</td>\n",
       "      <td>0.061</td>\n",
       "      <td>-0.007</td>\n",
       "      <td>0.139</td>\n",
       "      <td>0.240</td>\n",
       "      <td>0.064</td>\n",
       "      <td>0.015</td>\n",
       "      <td>0.047</td>\n",
       "      <td>0.030</td>\n",
       "      <td>0.530</td>\n",
       "      <td>0.414</td>\n",
       "    </tr>\n",
       "    <tr>\n",
       "      <th>1</th>\n",
       "      <td>2022-03-21 09:00:00</td>\n",
       "      <td>0.170</td>\n",
       "      <td>0.124</td>\n",
       "      <td>0.070</td>\n",
       "      <td>0.076</td>\n",
       "      <td>0.308</td>\n",
       "      <td>0.208</td>\n",
       "      <td>0.275</td>\n",
       "      <td>0.182</td>\n",
       "      <td>0.225</td>\n",
       "      <td>0.276</td>\n",
       "      <td>0.474</td>\n",
       "      <td>0.478</td>\n",
       "    </tr>\n",
       "    <tr>\n",
       "      <th>2</th>\n",
       "      <td>2022-03-21 10:00:00</td>\n",
       "      <td>0.421</td>\n",
       "      <td>0.266</td>\n",
       "      <td>0.250</td>\n",
       "      <td>0.185</td>\n",
       "      <td>0.275</td>\n",
       "      <td>0.299</td>\n",
       "      <td>0.279</td>\n",
       "      <td>0.238</td>\n",
       "      <td>0.114</td>\n",
       "      <td>0.241</td>\n",
       "      <td>0.471</td>\n",
       "      <td>0.417</td>\n",
       "    </tr>\n",
       "    <tr>\n",
       "      <th>3</th>\n",
       "      <td>2022-03-21 11:00:00</td>\n",
       "      <td>0.278</td>\n",
       "      <td>0.251</td>\n",
       "      <td>0.209</td>\n",
       "      <td>0.153</td>\n",
       "      <td>0.278</td>\n",
       "      <td>0.217</td>\n",
       "      <td>0.138</td>\n",
       "      <td>0.151</td>\n",
       "      <td>0.160</td>\n",
       "      <td>0.226</td>\n",
       "      <td>0.608</td>\n",
       "      <td>0.521</td>\n",
       "    </tr>\n",
       "    <tr>\n",
       "      <th>4</th>\n",
       "      <td>2022-03-21 12:00:00</td>\n",
       "      <td>0.301</td>\n",
       "      <td>0.243</td>\n",
       "      <td>0.205</td>\n",
       "      <td>0.236</td>\n",
       "      <td>0.378</td>\n",
       "      <td>0.281</td>\n",
       "      <td>0.172</td>\n",
       "      <td>0.123</td>\n",
       "      <td>0.170</td>\n",
       "      <td>0.059</td>\n",
       "      <td>0.613</td>\n",
       "      <td>0.764</td>\n",
       "    </tr>\n",
       "    <tr>\n",
       "      <th>...</th>\n",
       "      <td>...</td>\n",
       "      <td>...</td>\n",
       "      <td>...</td>\n",
       "      <td>...</td>\n",
       "      <td>...</td>\n",
       "      <td>...</td>\n",
       "      <td>...</td>\n",
       "      <td>...</td>\n",
       "      <td>...</td>\n",
       "      <td>...</td>\n",
       "      <td>...</td>\n",
       "      <td>...</td>\n",
       "      <td>...</td>\n",
       "    </tr>\n",
       "    <tr>\n",
       "      <th>79</th>\n",
       "      <td>2022-03-28 15:00:00</td>\n",
       "      <td>0.129</td>\n",
       "      <td>0.062</td>\n",
       "      <td>0.028</td>\n",
       "      <td>0.000</td>\n",
       "      <td>0.000</td>\n",
       "      <td>0.007</td>\n",
       "      <td>-0.148</td>\n",
       "      <td>-0.362</td>\n",
       "      <td>-0.214</td>\n",
       "      <td>-0.203</td>\n",
       "      <td>-0.001</td>\n",
       "      <td>0.000</td>\n",
       "    </tr>\n",
       "    <tr>\n",
       "      <th>80</th>\n",
       "      <td>2022-03-28 16:00:00</td>\n",
       "      <td>0.118</td>\n",
       "      <td>-0.007</td>\n",
       "      <td>-0.079</td>\n",
       "      <td>-0.083</td>\n",
       "      <td>-0.083</td>\n",
       "      <td>-0.083</td>\n",
       "      <td>-0.274</td>\n",
       "      <td>-0.314</td>\n",
       "      <td>-0.112</td>\n",
       "      <td>-0.155</td>\n",
       "      <td>-0.003</td>\n",
       "      <td>0.000</td>\n",
       "    </tr>\n",
       "    <tr>\n",
       "      <th>81</th>\n",
       "      <td>2022-03-28 17:00:00</td>\n",
       "      <td>0.141</td>\n",
       "      <td>0.084</td>\n",
       "      <td>0.084</td>\n",
       "      <td>0.084</td>\n",
       "      <td>0.084</td>\n",
       "      <td>0.084</td>\n",
       "      <td>-0.118</td>\n",
       "      <td>-0.203</td>\n",
       "      <td>-0.098</td>\n",
       "      <td>-0.083</td>\n",
       "      <td>-0.001</td>\n",
       "      <td>0.000</td>\n",
       "    </tr>\n",
       "    <tr>\n",
       "      <th>82</th>\n",
       "      <td>2022-03-28 18:00:00</td>\n",
       "      <td>0.000</td>\n",
       "      <td>0.000</td>\n",
       "      <td>0.000</td>\n",
       "      <td>0.000</td>\n",
       "      <td>0.052</td>\n",
       "      <td>-0.044</td>\n",
       "      <td>-0.083</td>\n",
       "      <td>-0.021</td>\n",
       "      <td>0.000</td>\n",
       "      <td>0.000</td>\n",
       "      <td>0.000</td>\n",
       "      <td>0.000</td>\n",
       "    </tr>\n",
       "    <tr>\n",
       "      <th>83</th>\n",
       "      <td>2022-03-28 19:00:00</td>\n",
       "      <td>0.282</td>\n",
       "      <td>0.167</td>\n",
       "      <td>0.130</td>\n",
       "      <td>0.084</td>\n",
       "      <td>0.084</td>\n",
       "      <td>0.098</td>\n",
       "      <td>-0.078</td>\n",
       "      <td>-0.086</td>\n",
       "      <td>0.034</td>\n",
       "      <td>-0.018</td>\n",
       "      <td>0.000</td>\n",
       "      <td>0.000</td>\n",
       "    </tr>\n",
       "  </tbody>\n",
       "</table>\n",
       "<p>84 rows × 13 columns</p>\n",
       "</div>"
      ],
      "text/plain": [
       "             Unnamed: 0  11TH AVE NE BETWEEN NE 47TH ST AND NE 50TH ST  \\\n",
       "0   2022-03-21 08:00:00                                          0.342   \n",
       "1   2022-03-21 09:00:00                                          0.170   \n",
       "2   2022-03-21 10:00:00                                          0.421   \n",
       "3   2022-03-21 11:00:00                                          0.278   \n",
       "4   2022-03-21 12:00:00                                          0.301   \n",
       "..                  ...                                            ...   \n",
       "79  2022-03-28 15:00:00                                          0.129   \n",
       "80  2022-03-28 16:00:00                                          0.118   \n",
       "81  2022-03-28 17:00:00                                          0.141   \n",
       "82  2022-03-28 18:00:00                                          0.000   \n",
       "83  2022-03-28 19:00:00                                          0.282   \n",
       "\n",
       "    15TH AVE NE BETWEEN NE 43RD ST AND NE 45TH ST  \\\n",
       "0                                           0.140   \n",
       "1                                           0.124   \n",
       "2                                           0.266   \n",
       "3                                           0.251   \n",
       "4                                           0.243   \n",
       "..                                            ...   \n",
       "79                                          0.062   \n",
       "80                                         -0.007   \n",
       "81                                          0.084   \n",
       "82                                          0.000   \n",
       "83                                          0.167   \n",
       "\n",
       "    1ST AVE BETWEEN BELL ST AND BATTERY ST  \\\n",
       "0                                    0.061   \n",
       "1                                    0.070   \n",
       "2                                    0.250   \n",
       "3                                    0.209   \n",
       "4                                    0.205   \n",
       "..                                     ...   \n",
       "79                                   0.028   \n",
       "80                                  -0.079   \n",
       "81                                   0.084   \n",
       "82                                   0.000   \n",
       "83                                   0.130   \n",
       "\n",
       "    2ND AVE BETWEEN LENORA ST AND BLANCHARD ST  \\\n",
       "0                                       -0.007   \n",
       "1                                        0.076   \n",
       "2                                        0.185   \n",
       "3                                        0.153   \n",
       "4                                        0.236   \n",
       "..                                         ...   \n",
       "79                                       0.000   \n",
       "80                                      -0.083   \n",
       "81                                       0.084   \n",
       "82                                       0.000   \n",
       "83                                       0.084   \n",
       "\n",
       "    6TH AVE N BETWEEN JOHN ST AND THOMAS ST  \\\n",
       "0                                     0.139   \n",
       "1                                     0.308   \n",
       "2                                     0.275   \n",
       "3                                     0.278   \n",
       "4                                     0.378   \n",
       "..                                      ...   \n",
       "79                                    0.000   \n",
       "80                                   -0.083   \n",
       "81                                    0.084   \n",
       "82                                    0.052   \n",
       "83                                    0.084   \n",
       "\n",
       "    7TH AVE BETWEEN OLIVE WAY AND STEWART ST  \\\n",
       "0                                      0.240   \n",
       "1                                      0.208   \n",
       "2                                      0.299   \n",
       "3                                      0.217   \n",
       "4                                      0.281   \n",
       "..                                       ...   \n",
       "79                                     0.007   \n",
       "80                                    -0.083   \n",
       "81                                     0.084   \n",
       "82                                    -0.044   \n",
       "83                                     0.098   \n",
       "\n",
       "    BOYLSTON AVE BETWEEN E PIKE ST AND E PINE ST  \\\n",
       "0                                          0.064   \n",
       "1                                          0.275   \n",
       "2                                          0.279   \n",
       "3                                          0.138   \n",
       "4                                          0.172   \n",
       "..                                           ...   \n",
       "79                                        -0.148   \n",
       "80                                        -0.274   \n",
       "81                                        -0.118   \n",
       "82                                        -0.083   \n",
       "83                                        -0.078   \n",
       "\n",
       "    EASTLAKE AVE E BETWEEN ALOHA ST AND WARD ST  \\\n",
       "0                                         0.015   \n",
       "1                                         0.182   \n",
       "2                                         0.238   \n",
       "3                                         0.151   \n",
       "4                                         0.123   \n",
       "..                                          ...   \n",
       "79                                       -0.362   \n",
       "80                                       -0.314   \n",
       "81                                       -0.203   \n",
       "82                                       -0.021   \n",
       "83                                       -0.086   \n",
       "\n",
       "    FAIRVIEW AVE N BETWEEN JOHN ST AND THOMAS ST  \\\n",
       "0                                          0.047   \n",
       "1                                          0.225   \n",
       "2                                          0.114   \n",
       "3                                          0.160   \n",
       "4                                          0.170   \n",
       "..                                           ...   \n",
       "79                                        -0.214   \n",
       "80                                        -0.112   \n",
       "81                                        -0.098   \n",
       "82                                         0.000   \n",
       "83                                         0.034   \n",
       "\n",
       "    FAIRVIEW NR AVE N BETWEEN FAIRVIEW PL N AND ALOHA ST  \\\n",
       "0                                               0.030      \n",
       "1                                               0.276      \n",
       "2                                               0.241      \n",
       "3                                               0.226      \n",
       "4                                               0.059      \n",
       "..                                                ...      \n",
       "79                                             -0.203      \n",
       "80                                             -0.155      \n",
       "81                                             -0.083      \n",
       "82                                              0.000      \n",
       "83                                             -0.018      \n",
       "\n",
       "    MINOR AVE BETWEEN HOWELL ST AND STEWART ST  \\\n",
       "0                                        0.530   \n",
       "1                                        0.474   \n",
       "2                                        0.471   \n",
       "3                                        0.608   \n",
       "4                                        0.613   \n",
       "..                                         ...   \n",
       "79                                      -0.001   \n",
       "80                                      -0.003   \n",
       "81                                      -0.001   \n",
       "82                                       0.000   \n",
       "83                                       0.000   \n",
       "\n",
       "    ROY ST BETWEEN FAIRVIEW AVE N AND MINOR AVE N  \n",
       "0                                           0.414  \n",
       "1                                           0.478  \n",
       "2                                           0.417  \n",
       "3                                           0.521  \n",
       "4                                           0.764  \n",
       "..                                            ...  \n",
       "79                                          0.000  \n",
       "80                                          0.000  \n",
       "81                                          0.000  \n",
       "82                                          0.000  \n",
       "83                                          0.000  \n",
       "\n",
       "[84 rows x 13 columns]"
      ]
     },
     "execution_count": 9,
     "metadata": {},
     "output_type": "execute_result"
    }
   ],
   "source": [
    "occ_diff"
   ]
  },
  {
   "cell_type": "code",
   "execution_count": 150,
   "id": "bb6c7234",
   "metadata": {},
   "outputs": [
    {
     "name": "stdout",
     "output_type": "stream",
     "text": [
      "11TH AVE NE BETWEEN NE 47TH ST AND NE 50TH ST 2022/03/21\n",
      "[0.342, 0.17, 0.421, 0.278, 0.301, 0.371, 0.414, 0.107, 0.093, 0.368, 0.086, -0.043]\n"
     ]
    }
   ],
   "source": [
    "# Create list of labels (block name and date) and corresponding occupancy difference throughout the days\n",
    "label = []\n",
    "X = []\n",
    "rows = occ_diff.shape[0]\n",
    "columns = occ_diff.shape[1]\n",
    "for i in range(12):\n",
    "    for j in range(7):\n",
    "        date = pd.Timestamp(occ_diff.iloc[j*12,0]).strftime('%Y/%m/%d')\n",
    "        label.append(occ_diff.columns[i+1] + ' ' + date)\n",
    "        X.append(list(occ_diff.iloc[j*12:j*12+12,i+1]))\n",
    "print(label[0])\n",
    "print(X[0])"
   ]
  },
  {
   "cell_type": "code",
   "execution_count": 76,
   "id": "ed7dcff7",
   "metadata": {},
   "outputs": [],
   "source": [
    "# Cluster occupancy difference data to 5 clusters\n",
    "kmeans = KMeans(n_clusters=5)"
   ]
  },
  {
   "cell_type": "code",
   "execution_count": 77,
   "id": "d37efe9d",
   "metadata": {},
   "outputs": [
    {
     "data": {
      "text/plain": [
       "KMeans(n_clusters=5)"
      ]
     },
     "execution_count": 77,
     "metadata": {},
     "output_type": "execute_result"
    }
   ],
   "source": [
    "kmeans.fit(X)"
   ]
  },
  {
   "cell_type": "code",
   "execution_count": 78,
   "id": "25ebdc2b",
   "metadata": {},
   "outputs": [
    {
     "name": "stdout",
     "output_type": "stream",
     "text": [
      "[2 3 1 3 2 2 2 2 0 1 3 2 2 2 2 0 1 3 2 2 2 2 0 1 3 2 2 2 2 0 1 3 2 2 2 2 0\n",
      " 1 3 2 2 2 2 0 1 3 2 2 2 2 0 1 3 2 2 2 2 0 1 3 2 2 2 2 0 2 3 2 2 2 4 0 2 3\n",
      " 2 3 4 4 0 2 3 2 3 4]\n"
     ]
    }
   ],
   "source": [
    "clusters = kmeans.predict(X)\n",
    "print(clusters)"
   ]
  },
  {
   "cell_type": "code",
   "execution_count": 79,
   "id": "cff2ea95",
   "metadata": {},
   "outputs": [],
   "source": [
    "# To visualize the data use PCA to reduce dimension to 2 and plot scatter plot\n",
    "pca_2d = PCA(n_components=2)\n",
    "PCA_2d = pca_2d.fit_transform(X)"
   ]
  },
  {
   "cell_type": "code",
   "execution_count": 88,
   "id": "d1c9b471",
   "metadata": {},
   "outputs": [
    {
     "data": {
      "image/png": "[encoded data removed]",
      "text/plain": [
       "<Figure size 720x432 with 1 Axes>"
      ]
     },
     "metadata": {
      "needs_background": "light"
     },
     "output_type": "display_data"
    }
   ],
   "source": [
    "colors = ['b', 'g', 'r', 'm', 'y']\n",
    "color_map = []\n",
    "for index in clusters:\n",
    "    color_map.append(colors[index])\n",
    "plt.figure(figsize=(10,6))\n",
    "plt.scatter(PCA_2d[:,0], PCA_2d[:,1], color=color_map)\n",
    "plt.title(\"Parking Occupancy Difference Clusters\", fontsize=20)\n",
    "plt.ylabel(\"Principle Component 2\", fontsize=15)\n",
    "plt.xlabel(\"Principle Component 1\", fontsize=15)\n",
    "plt.show()"
   ]
  },
  {
   "cell_type": "code",
   "execution_count": 182,
   "id": "fa71f55a",
   "metadata": {},
   "outputs": [],
   "source": [
    "# Sort all the block names and date of each cluster into their own list\n",
    "cluster_names = {0: [],\n",
    "                 1: [],\n",
    "                 2: [],\n",
    "                 3: [],\n",
    "                 4: []}\n",
    "\n",
    "for i in range(len(label)):\n",
    "    index = clusters[i]\n",
    "    cluster_names[index].append(label[i])\n",
    "        "
   ]
  },
  {
   "cell_type": "code",
   "execution_count": 183,
   "id": "af492dcc",
   "metadata": {},
   "outputs": [],
   "source": [
    "# Convert cluster lists to dataframe to be exported as csv to read\n",
    "occ_clusters = pd.DataFrame.from_dict(cluster_names, orient='index').transpose()\n"
   ]
  },
  {
   "cell_type": "code",
   "execution_count": 145,
   "id": "c978840b",
   "metadata": {},
   "outputs": [],
   "source": [
    "#occ_clusters.to_csv('./clusters.csv')"
   ]
  },
  {
   "cell_type": "code",
   "execution_count": 159,
   "id": "240ae597",
   "metadata": {},
   "outputs": [],
   "source": [
    "# Sort corresponding occupancy difference throughout the days to their own cluster list\n",
    "cluster_occ_diff = {0: [],\n",
    "                    1: [],\n",
    "                    2: [],\n",
    "                    3: [],\n",
    "                    4: []}\n",
    "\n",
    "for i in range(len(label)):\n",
    "    index = clusters[i]\n",
    "    cluster_occ_diff[index].append(np.array(X[i]))"
   ]
  },
  {
   "cell_type": "code",
   "execution_count": 167,
   "id": "22312961",
   "metadata": {},
   "outputs": [],
   "source": [
    "# Take the over average occupancy difference throughout the days for each clusters\n",
    "avg_cluster1 = np.average(cluster_occ_diff[0], axis=0)\n",
    "avg_cluster2 = np.average(cluster_occ_diff[1], axis=0)\n",
    "avg_cluster3 = np.average(cluster_occ_diff[2], axis=0)\n",
    "avg_cluster4 = np.average(cluster_occ_diff[3], axis=0)\n",
    "avg_cluster5 = np.average(cluster_occ_diff[4], axis=0)"
   ]
  },
  {
   "cell_type": "code",
   "execution_count": 177,
   "id": "697b19aa",
   "metadata": {},
   "outputs": [
    {
     "data": {
      "image/png": "[encoded data removed]",
      "text/plain": [
       "<Figure size 720x432 with 1 Axes>"
      ]
     },
     "metadata": {
      "needs_background": "light"
     },
     "output_type": "display_data"
    }
   ],
   "source": [
    "plt.figure(figsize=(10,6))\n",
    "paid_hour = np.arange(8,20,1)\n",
    "plt.title(\"Cluster 1 Occupancy Difference\")\n",
    "plt.bar(paid_hour, avg_cluster1)\n",
    "plt.ylabel(\"Occupancy Difference\")\n",
    "plt.xlabel(\"Hours\")\n",
    "plt.xticks(paid_hour)\n",
    "plt.show()"
   ]
  },
  {
   "cell_type": "code",
   "execution_count": 178,
   "id": "6db66f02",
   "metadata": {},
   "outputs": [
    {
     "data": {
      "image/png": "[encoded data removed]",
      "text/plain": [
       "<Figure size 720x432 with 1 Axes>"
      ]
     },
     "metadata": {
      "needs_background": "light"
     },
     "output_type": "display_data"
    }
   ],
   "source": [
    "plt.figure(figsize=(10,6))\n",
    "paid_hour = np.arange(8,20,1)\n",
    "plt.title(\"Cluster 2 Occupancy Difference\")\n",
    "plt.bar(paid_hour, avg_cluster2)\n",
    "plt.ylabel(\"Occupancy Difference\")\n",
    "plt.xlabel(\"Hours\")\n",
    "plt.xticks(paid_hour)\n",
    "plt.show()"
   ]
  },
  {
   "cell_type": "code",
   "execution_count": 179,
   "id": "a0735e8f",
   "metadata": {},
   "outputs": [
    {
     "data": {
      "image/png": "[encoded data removed]",
      "text/plain": [
       "<Figure size 720x432 with 1 Axes>"
      ]
     },
     "metadata": {
      "needs_background": "light"
     },
     "output_type": "display_data"
    }
   ],
   "source": [
    "plt.figure(figsize=(10,6))\n",
    "paid_hour = np.arange(8,20,1)\n",
    "plt.title(\"Cluster 3 Occupancy Difference\")\n",
    "plt.bar(paid_hour, avg_cluster3)\n",
    "plt.ylabel(\"Occupancy Difference\")\n",
    "plt.xlabel(\"Hours\")\n",
    "plt.xticks(paid_hour)\n",
    "plt.show()"
   ]
  },
  {
   "cell_type": "code",
   "execution_count": 185,
   "id": "9baba6cd",
   "metadata": {},
   "outputs": [
    {
     "data": {
      "image/png": "[encoded data removed]",
      "text/plain": [
       "<Figure size 720x432 with 1 Axes>"
      ]
     },
     "metadata": {
      "needs_background": "light"
     },
     "output_type": "display_data"
    }
   ],
   "source": [
    "plt.figure(figsize=(10,6))\n",
    "paid_hour = np.arange(8,20,1)\n",
    "plt.title(\"Cluster 4 Occupancy Difference\")\n",
    "plt.bar(paid_hour, avg_cluster4)\n",
    "plt.ylabel(\"Occupancy Difference\")\n",
    "plt.xlabel(\"Hours\")\n",
    "plt.xticks(paid_hour)\n",
    "plt.show()"
   ]
  },
  {
   "cell_type": "code",
   "execution_count": 184,
   "id": "5e5a245d",
   "metadata": {},
   "outputs": [
    {
     "data": {
      "image/png": "[encoded data removed]",
      "text/plain": [
       "<Figure size 720x432 with 1 Axes>"
      ]
     },
     "metadata": {
      "needs_background": "light"
     },
     "output_type": "display_data"
    }
   ],
   "source": [
    "plt.figure(figsize=(10,6))\n",
    "paid_hour = np.arange(8,20,1)\n",
    "plt.title(\"Cluster 5 Occupancy Difference\")\n",
    "plt.bar(paid_hour, avg_cluster5)\n",
    "plt.ylabel(\"Occupancy Difference\")\n",
    "plt.xlabel(\"Hours\")\n",
    "plt.xticks(paid_hour)\n",
    "plt.show()"
   ]
  },
  {
   "cell_type": "code",
   "execution_count": null,
   "id": "e0aadbcd",
   "metadata": {},
   "outputs": [],
   "source": []
  }
 ],
 "metadata": {
  "kernelspec": {
   "display_name": "Python 3 (ipykernel)",
   "language": "python",
   "name": "python3"
  },
  "language_info": {
   "codemirror_mode": {
    "name": "ipython",
    "version": 3
   },
   "file_extension": ".py",
   "mimetype": "text/x-python",
   "name": "python",
   "nbconvert_exporter": "python",
   "pygments_lexer": "ipython3",
   "version": "3.9.12"
  }
 },
 "nbformat": 4,
 "nbformat_minor": 5
}
