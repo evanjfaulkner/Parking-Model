{
 "cells": [
  {
   "cell_type": "code",
   "execution_count": 105,
   "id": "eb8998b9",
   "metadata": {},
   "outputs": [],
   "source": [
    "import pandas as pd\n",
    "import numpy as np\n",
    "import matplotlib.pyplot as plt\n",
    "from sklearn.cluster import KMeans\n",
    "from sklearn.decomposition import PCA\n",
    "from sklearn.model_selection import train_test_split\n",
    "from sklearn.pipeline import make_pipeline\n",
    "from sklearn.preprocessing import StandardScaler\n",
    "from sklearn.linear_model import LinearRegression"
   ]
  },
  {
   "cell_type": "code",
   "execution_count": 3,
   "id": "df00a6a7",
   "metadata": {},
   "outputs": [],
   "source": [
    "occ_diff = pd.read_csv('difference_occupancy.csv')"
   ]
  },
  {
   "cell_type": "code",
   "execution_count": 4,
   "id": "9e8e9806",
   "metadata": {},
   "outputs": [
    {
     "data": {
      "text/html": [
       "<div>\n",
       "<style scoped>\n",
       "    .dataframe tbody tr th:only-of-type {\n",
       "        vertical-align: middle;\n",
       "    }\n",
       "\n",
       "    .dataframe tbody tr th {\n",
       "        vertical-align: top;\n",
       "    }\n",
       "\n",
       "    .dataframe thead th {\n",
       "        text-align: right;\n",
       "    }\n",
       "</style>\n",
       "<table border=\"1\" class=\"dataframe\">\n",
       "  <thead>\n",
       "    <tr style=\"text-align: right;\">\n",
       "      <th></th>\n",
       "      <th>Unnamed: 0</th>\n",
       "      <th>11TH AVE NE BETWEEN NE 47TH ST AND NE 50TH ST</th>\n",
       "      <th>15TH AVE NE BETWEEN NE 43RD ST AND NE 45TH ST</th>\n",
       "      <th>1ST AVE BETWEEN BELL ST AND BATTERY ST</th>\n",
       "      <th>2ND AVE BETWEEN LENORA ST AND BLANCHARD ST</th>\n",
       "      <th>6TH AVE N BETWEEN JOHN ST AND THOMAS ST</th>\n",
       "      <th>7TH AVE BETWEEN OLIVE WAY AND STEWART ST</th>\n",
       "      <th>BOYLSTON AVE BETWEEN E PIKE ST AND E PINE ST</th>\n",
       "      <th>EASTLAKE AVE E BETWEEN ALOHA ST AND WARD ST</th>\n",
       "      <th>FAIRVIEW AVE N BETWEEN JOHN ST AND THOMAS ST</th>\n",
       "      <th>FAIRVIEW NR AVE N BETWEEN FAIRVIEW PL N AND ALOHA ST</th>\n",
       "      <th>MINOR AVE BETWEEN HOWELL ST AND STEWART ST</th>\n",
       "      <th>ROY ST BETWEEN FAIRVIEW AVE N AND MINOR AVE N</th>\n",
       "    </tr>\n",
       "  </thead>\n",
       "  <tbody>\n",
       "    <tr>\n",
       "      <th>0</th>\n",
       "      <td>2022-03-21 08:00:00</td>\n",
       "      <td>0.342</td>\n",
       "      <td>0.140</td>\n",
       "      <td>0.061</td>\n",
       "      <td>-0.007</td>\n",
       "      <td>0.139</td>\n",
       "      <td>0.240</td>\n",
       "      <td>0.064</td>\n",
       "      <td>0.015</td>\n",
       "      <td>0.047</td>\n",
       "      <td>0.030</td>\n",
       "      <td>0.530</td>\n",
       "      <td>0.414</td>\n",
       "    </tr>\n",
       "    <tr>\n",
       "      <th>1</th>\n",
       "      <td>2022-03-21 09:00:00</td>\n",
       "      <td>0.170</td>\n",
       "      <td>0.124</td>\n",
       "      <td>0.070</td>\n",
       "      <td>0.076</td>\n",
       "      <td>0.308</td>\n",
       "      <td>0.208</td>\n",
       "      <td>0.275</td>\n",
       "      <td>0.182</td>\n",
       "      <td>0.225</td>\n",
       "      <td>0.276</td>\n",
       "      <td>0.474</td>\n",
       "      <td>0.478</td>\n",
       "    </tr>\n",
       "    <tr>\n",
       "      <th>2</th>\n",
       "      <td>2022-03-21 10:00:00</td>\n",
       "      <td>0.421</td>\n",
       "      <td>0.266</td>\n",
       "      <td>0.250</td>\n",
       "      <td>0.185</td>\n",
       "      <td>0.275</td>\n",
       "      <td>0.299</td>\n",
       "      <td>0.279</td>\n",
       "      <td>0.238</td>\n",
       "      <td>0.114</td>\n",
       "      <td>0.241</td>\n",
       "      <td>0.471</td>\n",
       "      <td>0.417</td>\n",
       "    </tr>\n",
       "    <tr>\n",
       "      <th>3</th>\n",
       "      <td>2022-03-21 11:00:00</td>\n",
       "      <td>0.278</td>\n",
       "      <td>0.251</td>\n",
       "      <td>0.209</td>\n",
       "      <td>0.153</td>\n",
       "      <td>0.278</td>\n",
       "      <td>0.217</td>\n",
       "      <td>0.138</td>\n",
       "      <td>0.151</td>\n",
       "      <td>0.160</td>\n",
       "      <td>0.226</td>\n",
       "      <td>0.608</td>\n",
       "      <td>0.521</td>\n",
       "    </tr>\n",
       "    <tr>\n",
       "      <th>4</th>\n",
       "      <td>2022-03-21 12:00:00</td>\n",
       "      <td>0.301</td>\n",
       "      <td>0.243</td>\n",
       "      <td>0.205</td>\n",
       "      <td>0.236</td>\n",
       "      <td>0.378</td>\n",
       "      <td>0.281</td>\n",
       "      <td>0.172</td>\n",
       "      <td>0.123</td>\n",
       "      <td>0.170</td>\n",
       "      <td>0.059</td>\n",
       "      <td>0.613</td>\n",
       "      <td>0.764</td>\n",
       "    </tr>\n",
       "    <tr>\n",
       "      <th>...</th>\n",
       "      <td>...</td>\n",
       "      <td>...</td>\n",
       "      <td>...</td>\n",
       "      <td>...</td>\n",
       "      <td>...</td>\n",
       "      <td>...</td>\n",
       "      <td>...</td>\n",
       "      <td>...</td>\n",
       "      <td>...</td>\n",
       "      <td>...</td>\n",
       "      <td>...</td>\n",
       "      <td>...</td>\n",
       "      <td>...</td>\n",
       "    </tr>\n",
       "    <tr>\n",
       "      <th>79</th>\n",
       "      <td>2022-03-28 15:00:00</td>\n",
       "      <td>0.129</td>\n",
       "      <td>0.062</td>\n",
       "      <td>0.028</td>\n",
       "      <td>0.000</td>\n",
       "      <td>0.000</td>\n",
       "      <td>0.007</td>\n",
       "      <td>-0.148</td>\n",
       "      <td>-0.362</td>\n",
       "      <td>-0.214</td>\n",
       "      <td>-0.203</td>\n",
       "      <td>-0.001</td>\n",
       "      <td>0.000</td>\n",
       "    </tr>\n",
       "    <tr>\n",
       "      <th>80</th>\n",
       "      <td>2022-03-28 16:00:00</td>\n",
       "      <td>0.118</td>\n",
       "      <td>-0.007</td>\n",
       "      <td>-0.079</td>\n",
       "      <td>-0.083</td>\n",
       "      <td>-0.083</td>\n",
       "      <td>-0.083</td>\n",
       "      <td>-0.274</td>\n",
       "      <td>-0.314</td>\n",
       "      <td>-0.112</td>\n",
       "      <td>-0.155</td>\n",
       "      <td>-0.003</td>\n",
       "      <td>0.000</td>\n",
       "    </tr>\n",
       "    <tr>\n",
       "      <th>81</th>\n",
       "      <td>2022-03-28 17:00:00</td>\n",
       "      <td>0.141</td>\n",
       "      <td>0.084</td>\n",
       "      <td>0.084</td>\n",
       "      <td>0.084</td>\n",
       "      <td>0.084</td>\n",
       "      <td>0.084</td>\n",
       "      <td>-0.118</td>\n",
       "      <td>-0.203</td>\n",
       "      <td>-0.098</td>\n",
       "      <td>-0.083</td>\n",
       "      <td>-0.001</td>\n",
       "      <td>0.000</td>\n",
       "    </tr>\n",
       "    <tr>\n",
       "      <th>82</th>\n",
       "      <td>2022-03-28 18:00:00</td>\n",
       "      <td>0.000</td>\n",
       "      <td>0.000</td>\n",
       "      <td>0.000</td>\n",
       "      <td>0.000</td>\n",
       "      <td>0.052</td>\n",
       "      <td>-0.044</td>\n",
       "      <td>-0.083</td>\n",
       "      <td>-0.021</td>\n",
       "      <td>0.000</td>\n",
       "      <td>0.000</td>\n",
       "      <td>0.000</td>\n",
       "      <td>0.000</td>\n",
       "    </tr>\n",
       "    <tr>\n",
       "      <th>83</th>\n",
       "      <td>2022-03-28 19:00:00</td>\n",
       "      <td>0.282</td>\n",
       "      <td>0.167</td>\n",
       "      <td>0.130</td>\n",
       "      <td>0.084</td>\n",
       "      <td>0.084</td>\n",
       "      <td>0.098</td>\n",
       "      <td>-0.078</td>\n",
       "      <td>-0.086</td>\n",
       "      <td>0.034</td>\n",
       "      <td>-0.018</td>\n",
       "      <td>0.000</td>\n",
       "      <td>0.000</td>\n",
       "    </tr>\n",
       "  </tbody>\n",
       "</table>\n",
       "<p>84 rows × 13 columns</p>\n",
       "</div>"
      ],
      "text/plain": [
       "             Unnamed: 0  11TH AVE NE BETWEEN NE 47TH ST AND NE 50TH ST  \\\n",
       "0   2022-03-21 08:00:00                                          0.342   \n",
       "1   2022-03-21 09:00:00                                          0.170   \n",
       "2   2022-03-21 10:00:00                                          0.421   \n",
       "3   2022-03-21 11:00:00                                          0.278   \n",
       "4   2022-03-21 12:00:00                                          0.301   \n",
       "..                  ...                                            ...   \n",
       "79  2022-03-28 15:00:00                                          0.129   \n",
       "80  2022-03-28 16:00:00                                          0.118   \n",
       "81  2022-03-28 17:00:00                                          0.141   \n",
       "82  2022-03-28 18:00:00                                          0.000   \n",
       "83  2022-03-28 19:00:00                                          0.282   \n",
       "\n",
       "    15TH AVE NE BETWEEN NE 43RD ST AND NE 45TH ST  \\\n",
       "0                                           0.140   \n",
       "1                                           0.124   \n",
       "2                                           0.266   \n",
       "3                                           0.251   \n",
       "4                                           0.243   \n",
       "..                                            ...   \n",
       "79                                          0.062   \n",
       "80                                         -0.007   \n",
       "81                                          0.084   \n",
       "82                                          0.000   \n",
       "83                                          0.167   \n",
       "\n",
       "    1ST AVE BETWEEN BELL ST AND BATTERY ST  \\\n",
       "0                                    0.061   \n",
       "1                                    0.070   \n",
       "2                                    0.250   \n",
       "3                                    0.209   \n",
       "4                                    0.205   \n",
       "..                                     ...   \n",
       "79                                   0.028   \n",
       "80                                  -0.079   \n",
       "81                                   0.084   \n",
       "82                                   0.000   \n",
       "83                                   0.130   \n",
       "\n",
       "    2ND AVE BETWEEN LENORA ST AND BLANCHARD ST  \\\n",
       "0                                       -0.007   \n",
       "1                                        0.076   \n",
       "2                                        0.185   \n",
       "3                                        0.153   \n",
       "4                                        0.236   \n",
       "..                                         ...   \n",
       "79                                       0.000   \n",
       "80                                      -0.083   \n",
       "81                                       0.084   \n",
       "82                                       0.000   \n",
       "83                                       0.084   \n",
       "\n",
       "    6TH AVE N BETWEEN JOHN ST AND THOMAS ST  \\\n",
       "0                                     0.139   \n",
       "1                                     0.308   \n",
       "2                                     0.275   \n",
       "3                                     0.278   \n",
       "4                                     0.378   \n",
       "..                                      ...   \n",
       "79                                    0.000   \n",
       "80                                   -0.083   \n",
       "81                                    0.084   \n",
       "82                                    0.052   \n",
       "83                                    0.084   \n",
       "\n",
       "    7TH AVE BETWEEN OLIVE WAY AND STEWART ST  \\\n",
       "0                                      0.240   \n",
       "1                                      0.208   \n",
       "2                                      0.299   \n",
       "3                                      0.217   \n",
       "4                                      0.281   \n",
       "..                                       ...   \n",
       "79                                     0.007   \n",
       "80                                    -0.083   \n",
       "81                                     0.084   \n",
       "82                                    -0.044   \n",
       "83                                     0.098   \n",
       "\n",
       "    BOYLSTON AVE BETWEEN E PIKE ST AND E PINE ST  \\\n",
       "0                                          0.064   \n",
       "1                                          0.275   \n",
       "2                                          0.279   \n",
       "3                                          0.138   \n",
       "4                                          0.172   \n",
       "..                                           ...   \n",
       "79                                        -0.148   \n",
       "80                                        -0.274   \n",
       "81                                        -0.118   \n",
       "82                                        -0.083   \n",
       "83                                        -0.078   \n",
       "\n",
       "    EASTLAKE AVE E BETWEEN ALOHA ST AND WARD ST  \\\n",
       "0                                         0.015   \n",
       "1                                         0.182   \n",
       "2                                         0.238   \n",
       "3                                         0.151   \n",
       "4                                         0.123   \n",
       "..                                          ...   \n",
       "79                                       -0.362   \n",
       "80                                       -0.314   \n",
       "81                                       -0.203   \n",
       "82                                       -0.021   \n",
       "83                                       -0.086   \n",
       "\n",
       "    FAIRVIEW AVE N BETWEEN JOHN ST AND THOMAS ST  \\\n",
       "0                                          0.047   \n",
       "1                                          0.225   \n",
       "2                                          0.114   \n",
       "3                                          0.160   \n",
       "4                                          0.170   \n",
       "..                                           ...   \n",
       "79                                        -0.214   \n",
       "80                                        -0.112   \n",
       "81                                        -0.098   \n",
       "82                                         0.000   \n",
       "83                                         0.034   \n",
       "\n",
       "    FAIRVIEW NR AVE N BETWEEN FAIRVIEW PL N AND ALOHA ST  \\\n",
       "0                                               0.030      \n",
       "1                                               0.276      \n",
       "2                                               0.241      \n",
       "3                                               0.226      \n",
       "4                                               0.059      \n",
       "..                                                ...      \n",
       "79                                             -0.203      \n",
       "80                                             -0.155      \n",
       "81                                             -0.083      \n",
       "82                                              0.000      \n",
       "83                                             -0.018      \n",
       "\n",
       "    MINOR AVE BETWEEN HOWELL ST AND STEWART ST  \\\n",
       "0                                        0.530   \n",
       "1                                        0.474   \n",
       "2                                        0.471   \n",
       "3                                        0.608   \n",
       "4                                        0.613   \n",
       "..                                         ...   \n",
       "79                                      -0.001   \n",
       "80                                      -0.003   \n",
       "81                                      -0.001   \n",
       "82                                       0.000   \n",
       "83                                       0.000   \n",
       "\n",
       "    ROY ST BETWEEN FAIRVIEW AVE N AND MINOR AVE N  \n",
       "0                                           0.414  \n",
       "1                                           0.478  \n",
       "2                                           0.417  \n",
       "3                                           0.521  \n",
       "4                                           0.764  \n",
       "..                                            ...  \n",
       "79                                          0.000  \n",
       "80                                          0.000  \n",
       "81                                          0.000  \n",
       "82                                          0.000  \n",
       "83                                          0.000  \n",
       "\n",
       "[84 rows x 13 columns]"
      ]
     },
     "execution_count": 4,
     "metadata": {},
     "output_type": "execute_result"
    }
   ],
   "source": [
    "occ_diff"
   ]
  },
  {
   "cell_type": "code",
   "execution_count": 5,
   "id": "a282055e",
   "metadata": {},
   "outputs": [
    {
     "name": "stdout",
     "output_type": "stream",
     "text": [
      "11TH AVE NE BETWEEN NE 47TH ST AND NE 50TH ST 2022/03/21\n",
      "[0.342, 0.17, 0.421, 0.278, 0.301, 0.371, 0.414, 0.107, 0.093, 0.368, 0.086, -0.043]\n"
     ]
    }
   ],
   "source": [
    "# Create list of labels (block name and date) and corresponding occupancy difference throughout the days\n",
    "label = []\n",
    "X = []\n",
    "rows = occ_diff.shape[0]\n",
    "columns = occ_diff.shape[1]\n",
    "for i in range(12):\n",
    "    for j in range(7):\n",
    "        date = pd.Timestamp(occ_diff.iloc[j*12,0]).strftime('%Y/%m/%d')\n",
    "        label.append(occ_diff.columns[i+1] + ' ' + date)\n",
    "        X.append(list(occ_diff.iloc[j*12:j*12+12,i+1]))\n",
    "print(label[0])\n",
    "print(X[0])"
   ]
  },
  {
   "cell_type": "code",
   "execution_count": 23,
   "id": "a4f7f2c0",
   "metadata": {},
   "outputs": [],
   "source": [
    "# Cluster occupancy difference data to 5 clusters\n",
    "kmeans = KMeans(n_clusters=5)"
   ]
  },
  {
   "cell_type": "code",
   "execution_count": 24,
   "id": "352af3a2",
   "metadata": {},
   "outputs": [
    {
     "data": {
      "text/plain": [
       "KMeans(n_clusters=5)"
      ]
     },
     "execution_count": 24,
     "metadata": {},
     "output_type": "execute_result"
    }
   ],
   "source": [
    "kmeans.fit(X)"
   ]
  },
  {
   "cell_type": "code",
   "execution_count": 25,
   "id": "cdc74357",
   "metadata": {},
   "outputs": [
    {
     "name": "stdout",
     "output_type": "stream",
     "text": [
      "[1 2 0 2 1 1 1 1 3 0 2 1 1 1 1 3 0 2 1 1 1 1 3 0 2 1 1 1 1 3 0 2 1 1 1 1 3\n",
      " 0 2 1 1 1 1 3 0 2 1 1 1 1 3 0 2 1 1 1 1 3 1 2 1 1 1 1 3 1 2 1 1 1 4 3 1 2\n",
      " 1 2 4 4 3 1 2 1 2 4]\n"
     ]
    }
   ],
   "source": [
    "clusters = kmeans.predict(X)\n",
    "print(clusters)"
   ]
  },
  {
   "cell_type": "code",
   "execution_count": 26,
   "id": "f8b17050",
   "metadata": {},
   "outputs": [],
   "source": [
    "# To visualize the data use PCA to reduce dimension to 2 and plot scatter plot\n",
    "pca_2d = PCA(n_components=2)\n",
    "PCA_2d = pca_2d.fit_transform(X)"
   ]
  },
  {
   "cell_type": "code",
   "execution_count": 35,
   "id": "b80f358b",
   "metadata": {},
   "outputs": [
    {
     "data": {
      "image/png": "[encoded data removed]",
      "text/plain": [
       "<Figure size 720x432 with 1 Axes>"
      ]
     },
     "metadata": {
      "needs_background": "light"
     },
     "output_type": "display_data"
    }
   ],
   "source": [
    "colors = ['b', 'g', 'r', 'm', 'y']\n",
    "color_map = []\n",
    "for index in clusters:\n",
    "    color_map.append(colors[index])\n",
    "plt.figure(figsize=(10,6))\n",
    "plt.scatter(PCA_2d[:,0], PCA_2d[:,1], color=color_map)\n",
    "plt.title(\"Parking Occupancy Difference Clusters\", fontsize=20)\n",
    "plt.ylabel(\"Principle Component 2\", fontsize=15)\n",
    "plt.xlabel(\"Principle Component 1\", fontsize=15)\n",
    "plt.show()"
   ]
  },
  {
   "cell_type": "code",
   "execution_count": 36,
   "id": "4d722eff",
   "metadata": {},
   "outputs": [],
   "source": [
    "# Sort all the block names and date of each cluster into their own list\n",
    "cluster_names = {0: [],\n",
    "                 1: [],\n",
    "                 2: [],\n",
    "                 3: [],\n",
    "                 4: []}\n",
    "\n",
    "for i in range(len(label)):\n",
    "    index = clusters[i]\n",
    "    cluster_names[index].append(label[i])\n",
    "        "
   ]
  },
  {
   "cell_type": "code",
   "execution_count": 12,
   "id": "1bd922f7",
   "metadata": {},
   "outputs": [],
   "source": [
    "# Convert cluster lists to dataframe to be exported as csv to read\n",
    "occ_clusters = pd.DataFrame.from_dict(cluster_names, orient='index').transpose()\n"
   ]
  },
  {
   "cell_type": "code",
   "execution_count": 142,
   "id": "b9257dfe",
   "metadata": {},
   "outputs": [],
   "source": [
    "#occ_clusters.to_csv('./clusters.csv')"
   ]
  },
  {
   "cell_type": "code",
   "execution_count": 14,
   "id": "86be5103",
   "metadata": {},
   "outputs": [],
   "source": [
    "# Sort corresponding occupancy difference throughout the days to their own cluster list\n",
    "cluster_occ_diff = {0: [],\n",
    "                    1: [],\n",
    "                    2: [],\n",
    "                    3: [],\n",
    "                    4: []}\n",
    "\n",
    "for i in range(len(label)):\n",
    "    index = clusters[i]\n",
    "    cluster_occ_diff[index].append(np.array(X[i]))"
   ]
  },
  {
   "cell_type": "code",
   "execution_count": 15,
   "id": "74864492",
   "metadata": {},
   "outputs": [],
   "source": [
    "# Take the over average occupancy difference throughout the days for each clusters\n",
    "avg_cluster1 = np.average(cluster_occ_diff[0], axis=0)\n",
    "avg_cluster2 = np.average(cluster_occ_diff[1], axis=0)\n",
    "avg_cluster3 = np.average(cluster_occ_diff[2], axis=0)\n",
    "avg_cluster4 = np.average(cluster_occ_diff[3], axis=0)\n",
    "avg_cluster5 = np.average(cluster_occ_diff[4], axis=0)"
   ]
  },
  {
   "cell_type": "code",
   "execution_count": 28,
   "id": "c1d17c3d",
   "metadata": {},
   "outputs": [
    {
     "data": {
      "image/png": "[encoded data removed]",
      "text/plain": [
       "<Figure size 720x432 with 1 Axes>"
      ]
     },
     "metadata": {
      "needs_background": "light"
     },
     "output_type": "display_data"
    }
   ],
   "source": [
    "plt.figure(figsize=(10,6))\n",
    "paid_hour = np.arange(8,20,1)\n",
    "plt.title(\"Cluster 1 Occupancy Difference\")\n",
    "plt.bar(paid_hour, avg_cluster1, color=colors[0])\n",
    "plt.ylabel(\"Occupancy Difference\")\n",
    "plt.xlabel(\"Hours\")\n",
    "plt.xticks(paid_hour)\n",
    "plt.show()"
   ]
  },
  {
   "cell_type": "code",
   "execution_count": 143,
   "id": "662d67d4",
   "metadata": {},
   "outputs": [
    {
     "name": "stdout",
     "output_type": "stream",
     "text": [
      "['11TH AVE NE BETWEEN NE 47TH ST AND NE 50TH ST 2022/03/23', '15TH AVE NE BETWEEN NE 43RD ST AND NE 45TH ST 2022/03/23', '1ST AVE BETWEEN BELL ST AND BATTERY ST 2022/03/23', '2ND AVE BETWEEN LENORA ST AND BLANCHARD ST 2022/03/23', '6TH AVE N BETWEEN JOHN ST AND THOMAS ST 2022/03/23', '7TH AVE BETWEEN OLIVE WAY AND STEWART ST 2022/03/23', 'BOYLSTON AVE BETWEEN E PIKE ST AND E PINE ST 2022/03/23', 'EASTLAKE AVE E BETWEEN ALOHA ST AND WARD ST 2022/03/23']\n"
     ]
    }
   ],
   "source": [
    "print(cluster_names[0])"
   ]
  },
  {
   "cell_type": "code",
   "execution_count": 22,
   "id": "37282d70",
   "metadata": {},
   "outputs": [
    {
     "data": {
      "image/png": "[encoded data removed]",
      "text/plain": [
       "<Figure size 720x432 with 1 Axes>"
      ]
     },
     "metadata": {
      "needs_background": "light"
     },
     "output_type": "display_data"
    }
   ],
   "source": [
    "plt.figure(figsize=(10,6))\n",
    "paid_hour = np.arange(8,20,1)\n",
    "plt.title(\"Cluster 2 Occupancy Difference\")\n",
    "plt.bar(paid_hour, avg_cluster2, color=colors[1])\n",
    "plt.ylabel(\"Occupancy Difference\")\n",
    "plt.xlabel(\"Hours\")\n",
    "plt.xticks(paid_hour)\n",
    "plt.show()"
   ]
  },
  {
   "cell_type": "code",
   "execution_count": 144,
   "id": "c1996434",
   "metadata": {},
   "outputs": [
    {
     "name": "stdout",
     "output_type": "stream",
     "text": [
      "['11TH AVE NE BETWEEN NE 47TH ST AND NE 50TH ST 2022/03/21', '11TH AVE NE BETWEEN NE 47TH ST AND NE 50TH ST 2022/03/25', '11TH AVE NE BETWEEN NE 47TH ST AND NE 50TH ST 2022/03/26', '11TH AVE NE BETWEEN NE 47TH ST AND NE 50TH ST 2022/03/28', '15TH AVE NE BETWEEN NE 43RD ST AND NE 45TH ST 2022/03/21', '15TH AVE NE BETWEEN NE 43RD ST AND NE 45TH ST 2022/03/25', '15TH AVE NE BETWEEN NE 43RD ST AND NE 45TH ST 2022/03/26', '15TH AVE NE BETWEEN NE 43RD ST AND NE 45TH ST 2022/03/28', '1ST AVE BETWEEN BELL ST AND BATTERY ST 2022/03/21', '1ST AVE BETWEEN BELL ST AND BATTERY ST 2022/03/25', '1ST AVE BETWEEN BELL ST AND BATTERY ST 2022/03/26', '1ST AVE BETWEEN BELL ST AND BATTERY ST 2022/03/28', '2ND AVE BETWEEN LENORA ST AND BLANCHARD ST 2022/03/21', '2ND AVE BETWEEN LENORA ST AND BLANCHARD ST 2022/03/25', '2ND AVE BETWEEN LENORA ST AND BLANCHARD ST 2022/03/26', '2ND AVE BETWEEN LENORA ST AND BLANCHARD ST 2022/03/28', '6TH AVE N BETWEEN JOHN ST AND THOMAS ST 2022/03/21', '6TH AVE N BETWEEN JOHN ST AND THOMAS ST 2022/03/25', '6TH AVE N BETWEEN JOHN ST AND THOMAS ST 2022/03/26', '6TH AVE N BETWEEN JOHN ST AND THOMAS ST 2022/03/28', '7TH AVE BETWEEN OLIVE WAY AND STEWART ST 2022/03/21', '7TH AVE BETWEEN OLIVE WAY AND STEWART ST 2022/03/25', '7TH AVE BETWEEN OLIVE WAY AND STEWART ST 2022/03/26', '7TH AVE BETWEEN OLIVE WAY AND STEWART ST 2022/03/28', 'BOYLSTON AVE BETWEEN E PIKE ST AND E PINE ST 2022/03/21', 'BOYLSTON AVE BETWEEN E PIKE ST AND E PINE ST 2022/03/25', 'BOYLSTON AVE BETWEEN E PIKE ST AND E PINE ST 2022/03/26', 'BOYLSTON AVE BETWEEN E PIKE ST AND E PINE ST 2022/03/28', 'EASTLAKE AVE E BETWEEN ALOHA ST AND WARD ST 2022/03/21', 'EASTLAKE AVE E BETWEEN ALOHA ST AND WARD ST 2022/03/25', 'EASTLAKE AVE E BETWEEN ALOHA ST AND WARD ST 2022/03/26', 'EASTLAKE AVE E BETWEEN ALOHA ST AND WARD ST 2022/03/28', 'FAIRVIEW AVE N BETWEEN JOHN ST AND THOMAS ST 2022/03/21', 'FAIRVIEW AVE N BETWEEN JOHN ST AND THOMAS ST 2022/03/23', 'FAIRVIEW AVE N BETWEEN JOHN ST AND THOMAS ST 2022/03/25', 'FAIRVIEW AVE N BETWEEN JOHN ST AND THOMAS ST 2022/03/26', 'FAIRVIEW AVE N BETWEEN JOHN ST AND THOMAS ST 2022/03/28', 'FAIRVIEW NR AVE N BETWEEN FAIRVIEW PL N AND ALOHA ST 2022/03/21', 'FAIRVIEW NR AVE N BETWEEN FAIRVIEW PL N AND ALOHA ST 2022/03/23', 'FAIRVIEW NR AVE N BETWEEN FAIRVIEW PL N AND ALOHA ST 2022/03/25', 'FAIRVIEW NR AVE N BETWEEN FAIRVIEW PL N AND ALOHA ST 2022/03/26', 'FAIRVIEW NR AVE N BETWEEN FAIRVIEW PL N AND ALOHA ST 2022/03/28', 'MINOR AVE BETWEEN HOWELL ST AND STEWART ST 2022/03/23', 'MINOR AVE BETWEEN HOWELL ST AND STEWART ST 2022/03/25', 'ROY ST BETWEEN FAIRVIEW AVE N AND MINOR AVE N 2022/03/23', 'ROY ST BETWEEN FAIRVIEW AVE N AND MINOR AVE N 2022/03/25']\n"
     ]
    }
   ],
   "source": [
    "print(cluster_names[1])"
   ]
  },
  {
   "cell_type": "code",
   "execution_count": 31,
   "id": "0dde6b36",
   "metadata": {},
   "outputs": [
    {
     "data": {
      "image/png": "[encoded data removed]",
      "text/plain": [
       "<Figure size 720x432 with 1 Axes>"
      ]
     },
     "metadata": {
      "needs_background": "light"
     },
     "output_type": "display_data"
    }
   ],
   "source": [
    "plt.figure(figsize=(10,6))\n",
    "paid_hour = np.arange(8,20,1)\n",
    "plt.title(\"Cluster 3 Occupancy Difference\")\n",
    "plt.bar(paid_hour, avg_cluster3, color=colors[2])\n",
    "plt.ylabel(\"Occupancy Difference\")\n",
    "plt.xlabel(\"Hours\")\n",
    "plt.xticks(paid_hour)\n",
    "plt.show()"
   ]
  },
  {
   "cell_type": "code",
   "execution_count": 145,
   "id": "a51daa7c",
   "metadata": {},
   "outputs": [
    {
     "name": "stdout",
     "output_type": "stream",
     "text": [
      "['11TH AVE NE BETWEEN NE 47TH ST AND NE 50TH ST 2022/03/22', '11TH AVE NE BETWEEN NE 47TH ST AND NE 50TH ST 2022/03/24', '15TH AVE NE BETWEEN NE 43RD ST AND NE 45TH ST 2022/03/24', '1ST AVE BETWEEN BELL ST AND BATTERY ST 2022/03/24', '2ND AVE BETWEEN LENORA ST AND BLANCHARD ST 2022/03/24', '6TH AVE N BETWEEN JOHN ST AND THOMAS ST 2022/03/24', '7TH AVE BETWEEN OLIVE WAY AND STEWART ST 2022/03/24', 'BOYLSTON AVE BETWEEN E PIKE ST AND E PINE ST 2022/03/24', 'EASTLAKE AVE E BETWEEN ALOHA ST AND WARD ST 2022/03/24', 'FAIRVIEW AVE N BETWEEN JOHN ST AND THOMAS ST 2022/03/24', 'FAIRVIEW NR AVE N BETWEEN FAIRVIEW PL N AND ALOHA ST 2022/03/24', 'MINOR AVE BETWEEN HOWELL ST AND STEWART ST 2022/03/24', 'MINOR AVE BETWEEN HOWELL ST AND STEWART ST 2022/03/26', 'ROY ST BETWEEN FAIRVIEW AVE N AND MINOR AVE N 2022/03/24', 'ROY ST BETWEEN FAIRVIEW AVE N AND MINOR AVE N 2022/03/26']\n"
     ]
    }
   ],
   "source": [
    "print(cluster_names[2])"
   ]
  },
  {
   "cell_type": "code",
   "execution_count": 30,
   "id": "30edd57c",
   "metadata": {},
   "outputs": [
    {
     "data": {
      "image/png": "[encoded data removed]",
      "text/plain": [
       "<Figure size 720x432 with 1 Axes>"
      ]
     },
     "metadata": {
      "needs_background": "light"
     },
     "output_type": "display_data"
    }
   ],
   "source": [
    "plt.figure(figsize=(10,6))\n",
    "paid_hour = np.arange(8,20,1)\n",
    "plt.title(\"Cluster 4 Occupancy Difference\")\n",
    "plt.bar(paid_hour, avg_cluster4, color=colors[3])\n",
    "plt.ylabel(\"Occupancy Difference\")\n",
    "plt.xlabel(\"Hours\")\n",
    "plt.xticks(paid_hour)\n",
    "plt.show()"
   ]
  },
  {
   "cell_type": "code",
   "execution_count": 146,
   "id": "67da7bb9",
   "metadata": {},
   "outputs": [
    {
     "name": "stdout",
     "output_type": "stream",
     "text": [
      "['15TH AVE NE BETWEEN NE 43RD ST AND NE 45TH ST 2022/03/22', '1ST AVE BETWEEN BELL ST AND BATTERY ST 2022/03/22', '2ND AVE BETWEEN LENORA ST AND BLANCHARD ST 2022/03/22', '6TH AVE N BETWEEN JOHN ST AND THOMAS ST 2022/03/22', '7TH AVE BETWEEN OLIVE WAY AND STEWART ST 2022/03/22', 'BOYLSTON AVE BETWEEN E PIKE ST AND E PINE ST 2022/03/22', 'EASTLAKE AVE E BETWEEN ALOHA ST AND WARD ST 2022/03/22', 'FAIRVIEW AVE N BETWEEN JOHN ST AND THOMAS ST 2022/03/22', 'FAIRVIEW NR AVE N BETWEEN FAIRVIEW PL N AND ALOHA ST 2022/03/22', 'MINOR AVE BETWEEN HOWELL ST AND STEWART ST 2022/03/22', 'ROY ST BETWEEN FAIRVIEW AVE N AND MINOR AVE N 2022/03/22']\n"
     ]
    }
   ],
   "source": [
    "print(cluster_names[3])"
   ]
  },
  {
   "cell_type": "code",
   "execution_count": 29,
   "id": "91e69cce",
   "metadata": {},
   "outputs": [
    {
     "data": {
      "image/png": "[encoded data removed]",
      "text/plain": [
       "<Figure size 720x432 with 1 Axes>"
      ]
     },
     "metadata": {
      "needs_background": "light"
     },
     "output_type": "display_data"
    }
   ],
   "source": [
    "plt.figure(figsize=(10,6))\n",
    "paid_hour = np.arange(8,20,1)\n",
    "plt.title(\"Cluster 5 Occupancy Difference\")\n",
    "plt.bar(paid_hour, avg_cluster5, color=colors[4])\n",
    "plt.ylabel(\"Occupancy Difference\")\n",
    "plt.xlabel(\"Hours\")\n",
    "plt.xticks(paid_hour)\n",
    "plt.show()"
   ]
  },
  {
   "cell_type": "code",
   "execution_count": 147,
   "id": "2871946c",
   "metadata": {},
   "outputs": [
    {
     "name": "stdout",
     "output_type": "stream",
     "text": [
      "['MINOR AVE BETWEEN HOWELL ST AND STEWART ST 2022/03/21', 'MINOR AVE BETWEEN HOWELL ST AND STEWART ST 2022/03/28', 'ROY ST BETWEEN FAIRVIEW AVE N AND MINOR AVE N 2022/03/21', 'ROY ST BETWEEN FAIRVIEW AVE N AND MINOR AVE N 2022/03/28']\n"
     ]
    }
   ],
   "source": [
    "print(cluster_names[4])"
   ]
  },
  {
   "cell_type": "code",
   "execution_count": 85,
   "id": "f4259589",
   "metadata": {},
   "outputs": [
    {
     "name": "stdout",
     "output_type": "stream",
     "text": [
      "[8.00e+02 2.80e+01 2.86e-01]\n",
      "0.75\n"
     ]
    }
   ],
   "source": [
    "X_data = pd.read_csv('X_data.csv')\n",
    "X_data = np.array(X_data.values.tolist())\n",
    "X_data = X_data[:,1:]\n",
    "print(X_data[0])\n",
    "\n",
    "Y_data = pd.read_csv('Y_data.csv')\n",
    "Y_data = np.array(Y_data.values.tolist())\n",
    "Y_data = Y_data[:,1]\n",
    "print(Y_data[0])"
   ]
  },
  {
   "cell_type": "code",
   "execution_count": 154,
   "id": "6359539a",
   "metadata": {},
   "outputs": [
    {
     "name": "stdout",
     "output_type": "stream",
     "text": [
      "(8640, 3)\n",
      "(8640,)\n"
     ]
    }
   ],
   "source": [
    "# Separate out data from Wednesday and Tuesday\n",
    "tue_index = 720\n",
    "wed_index = 1440\n",
    "num_of_block = 12\n",
    "\n",
    "X_Tue = []\n",
    "Y_Tue = []\n",
    "X_Wed = []\n",
    "Y_Wed = []\n",
    "for i in range(num_of_block):\n",
    "    next_day_tue = 2*tue_index + 5040*i\n",
    "    next_day_wed = wed_index + 720 + 5040*i\n",
    "    X_Tue.append(X_data[tue_index+i*5040:next_day_tue])\n",
    "    Y_Tue.append(Y_data[tue_index+i*5040:next_day_tue])\n",
    "    X_Wed.append(X_data[wed_index+i*5040:next_day_wed])\n",
    "    Y_Wed.append(Y_data[wed_index+i*5040:next_day_wed])\n",
    "    \n",
    "X_Tue = np.array(X_Tue)\n",
    "X_Tue = X_Tue.reshape((8640, 3))\n",
    "X_Wed = np.array(X_Wed)\n",
    "X_Wed = X_Wed.reshape((8640, 3))\n",
    "print(X_Tue.shape)\n",
    "\n",
    "Y_Tue = np.array(Y_Tue)\n",
    "Y_Tue = Y_Tue.reshape((8640))\n",
    "Y_Wed = np.array(Y_Wed)\n",
    "Y_Wed = Y_Wed.reshape((8640))\n",
    "print(Y_Tue.shape)"
   ]
  },
  {
   "cell_type": "code",
   "execution_count": 155,
   "id": "120555b4",
   "metadata": {},
   "outputs": [],
   "source": [
    "# PCR for 3/22/2022\n",
    "X_train, X_test, y_train, y_test = train_test_split(X_Tue, Y_Tue, test_size=0.20, random_state=42)"
   ]
  },
  {
   "cell_type": "code",
   "execution_count": 156,
   "id": "f2263571",
   "metadata": {},
   "outputs": [
    {
     "name": "stdout",
     "output_type": "stream",
     "text": [
      "[8.33815458 8.23266218 6.46603303]\n"
     ]
    }
   ],
   "source": [
    "pcr1 = make_pipeline(StandardScaler(), PCA(n_components=1), LinearRegression())\n",
    "pcr2 = make_pipeline(StandardScaler(), PCA(n_components=2), LinearRegression())\n",
    "pcr3 = make_pipeline(StandardScaler(), PCA(n_components=3), LinearRegression())\n",
    "\n",
    "pcr1.fit(X_train, y_train)\n",
    "pcr2.fit(X_train, y_train)\n",
    "pcr3.fit(X_train, y_train)\n",
    "\n",
    "X_predict1 = pcr1.predict(X_test)\n",
    "X_predict2 = pcr2.predict(X_test)\n",
    "X_predict3 = pcr3.predict(X_test)\n",
    "\n",
    "pca_error_tue = np.array((0.0,0.0,0.0))\n",
    "\n",
    "for i in range(len(y_test)):\n",
    "    pca_error_tue[0] += (y_test[i] - X_predict1[i])**2\n",
    "    pca_error_tue[1] += (y_test[i] - X_predict2[i])**2\n",
    "    pca_error_tue[2] += (y_test[i] - X_predict3[i])**2\n",
    "\n",
    "pca_error_avg_tue = pca_error_tue / len(y_test) * 100\n",
    "\n",
    "print(pca_error_avg_tue)"
   ]
  },
  {
   "cell_type": "code",
   "execution_count": 157,
   "id": "10a856e6",
   "metadata": {},
   "outputs": [
    {
     "data": {
      "image/png": "[encoded data removed]",
      "text/plain": [
       "<Figure size 720x432 with 1 Axes>"
      ]
     },
     "metadata": {
      "needs_background": "light"
     },
     "output_type": "display_data"
    }
   ],
   "source": [
    "# Plot Average Error percentage vs number of components used in PCR for 3/22/2022\n",
    "n_comp = np.arange(1,4)\n",
    "\n",
    "plt.figure(figsize=(10,6))\n",
    "plt.title('PCR with Tuesday Cluster')\n",
    "plt.scatter(n_comp, pca_error_avg_tue)\n",
    "plt.ylabel(\"Average Error Percentage\")\n",
    "plt.xlabel(\"Number of Components\")\n",
    "plt.xticks(range(1,4))\n",
    "plt.show()"
   ]
  },
  {
   "cell_type": "code",
   "execution_count": 137,
   "id": "60affed2",
   "metadata": {},
   "outputs": [],
   "source": [
    "# PCR for 3/23/2022\n",
    "X_train, X_test, y_train, y_test = train_test_split(X_Wed, Y_Wed, test_size=0.20, random_state=42)"
   ]
  },
  {
   "cell_type": "code",
   "execution_count": 138,
   "id": "782cbd7f",
   "metadata": {},
   "outputs": [
    {
     "name": "stdout",
     "output_type": "stream",
     "text": [
      "[8.6666076  8.5945494  8.22737086]\n"
     ]
    }
   ],
   "source": [
    "pcr1.fit(X_train, y_train)\n",
    "pcr2.fit(X_train, y_train)\n",
    "pcr3.fit(X_train, y_train)\n",
    "\n",
    "X_predict1 = pcr1.predict(X_test)\n",
    "X_predict2 = pcr2.predict(X_test)\n",
    "X_predict3 = pcr3.predict(X_test)\n",
    "\n",
    "pca_error_wed = np.array((0.0,0.0,0.0))\n",
    "\n",
    "for i in range(len(y_test)):\n",
    "    pca_error_wed[0] += (y_test[i] - X_predict1[i])**2\n",
    "    pca_error_wed[1] += (y_test[i] - X_predict2[i])**2\n",
    "    pca_error_wed[2] += (y_test[i] - X_predict3[i])**2\n",
    "\n",
    "pca_error_avg_wed = pca_error_wed / len(y_test) * 100\n",
    "\n",
    "print(pca_error_avg_wed)"
   ]
  },
  {
   "cell_type": "code",
   "execution_count": 140,
   "id": "2d1f4fd6",
   "metadata": {},
   "outputs": [
    {
     "data": {
      "image/png": "[encoded data removed]",
      "text/plain": [
       "<Figure size 720x432 with 1 Axes>"
      ]
     },
     "metadata": {
      "needs_background": "light"
     },
     "output_type": "display_data"
    }
   ],
   "source": [
    "# Plot Average Error percentage vs number of components used in PCR for 3/23/2022\n",
    "n_comp = np.arange(1,4)\n",
    "\n",
    "plt.figure(figsize=(10,6))\n",
    "plt.title('PCR with Wednesday Cluster')\n",
    "plt.scatter(n_comp, pca_error_avg_wed)\n",
    "plt.ylabel(\"Average Error Percentage\")\n",
    "plt.xlabel(\"Number of Components\")\n",
    "plt.xticks(range(1,4))\n",
    "plt.show()"
   ]
  },
  {
   "cell_type": "code",
   "execution_count": null,
   "id": "da016f98",
   "metadata": {},
   "outputs": [],
   "source": []
  }
 ],
 "metadata": {
  "kernelspec": {
   "display_name": "Python 3 (ipykernel)",
   "language": "python",
   "name": "python3"
  },
  "language_info": {
   "codemirror_mode": {
    "name": "ipython",
    "version": 3
   },
   "file_extension": ".py",
   "mimetype": "text/x-python",
   "name": "python",
   "nbconvert_exporter": "python",
   "pygments_lexer": "ipython3",
   "version": "3.9.12"
  }
 },
 "nbformat": 4,
 "nbformat_minor": 5
}
