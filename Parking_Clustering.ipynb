{
 "cells": [
  {
   "cell_type": "code",
   "execution_count": 1,
   "id": "eb8998b9",
   "metadata": {},
   "outputs": [],
   "source": [
    "import pandas as pd\n",
    "import numpy as np\n",
    "import matplotlib.pyplot as plt\n",
    "from sklearn.cluster import KMeans\n",
    "from sklearn.decomposition import PCA\n",
    "from sklearn.model_selection import train_test_split\n",
    "from sklearn.pipeline import make_pipeline\n",
    "from sklearn.preprocessing import StandardScaler\n",
    "from sklearn.linear_model import LinearRegression"
   ]
  },
  {
   "cell_type": "code",
   "execution_count": 2,
   "id": "df00a6a7",
   "metadata": {},
   "outputs": [],
   "source": [
    "occ_diff = pd.read_csv('difference_occupancy.csv')"
   ]
  },
  {
   "cell_type": "code",
   "execution_count": 3,
   "id": "9e8e9806",
   "metadata": {},
   "outputs": [
    {
     "data": {
      "text/html": [
       "<div>\n",
       "<style scoped>\n",
       "    .dataframe tbody tr th:only-of-type {\n",
       "        vertical-align: middle;\n",
       "    }\n",
       "\n",
       "    .dataframe tbody tr th {\n",
       "        vertical-align: top;\n",
       "    }\n",
       "\n",
       "    .dataframe thead th {\n",
       "        text-align: right;\n",
       "    }\n",
       "</style>\n",
       "<table border=\"1\" class=\"dataframe\">\n",
       "  <thead>\n",
       "    <tr style=\"text-align: right;\">\n",
       "      <th></th>\n",
       "      <th>Unnamed: 0</th>\n",
       "      <th>11TH AVE NE BETWEEN NE 47TH ST AND NE 50TH ST</th>\n",
       "      <th>15TH AVE NE BETWEEN NE 43RD ST AND NE 45TH ST</th>\n",
       "      <th>1ST AVE BETWEEN BELL ST AND BATTERY ST</th>\n",
       "      <th>2ND AVE BETWEEN LENORA ST AND BLANCHARD ST</th>\n",
       "      <th>6TH AVE N BETWEEN JOHN ST AND THOMAS ST</th>\n",
       "      <th>7TH AVE BETWEEN OLIVE WAY AND STEWART ST</th>\n",
       "      <th>BOYLSTON AVE BETWEEN E PIKE ST AND E PINE ST</th>\n",
       "      <th>EASTLAKE AVE E BETWEEN ALOHA ST AND WARD ST</th>\n",
       "      <th>FAIRVIEW AVE N BETWEEN JOHN ST AND THOMAS ST</th>\n",
       "      <th>FAIRVIEW NR AVE N BETWEEN FAIRVIEW PL N AND ALOHA ST</th>\n",
       "      <th>MINOR AVE BETWEEN HOWELL ST AND STEWART ST</th>\n",
       "      <th>ROY ST BETWEEN FAIRVIEW AVE N AND MINOR AVE N</th>\n",
       "    </tr>\n",
       "  </thead>\n",
       "  <tbody>\n",
       "    <tr>\n",
       "      <th>0</th>\n",
       "      <td>2022-03-21 08:00:00</td>\n",
       "      <td>0.464</td>\n",
       "      <td>0.286</td>\n",
       "      <td>0.250</td>\n",
       "      <td>0.625</td>\n",
       "      <td>-0.316</td>\n",
       "      <td>0.75</td>\n",
       "      <td>0.667</td>\n",
       "      <td>0.417</td>\n",
       "      <td>0.084</td>\n",
       "      <td>0.291</td>\n",
       "      <td>0.384</td>\n",
       "      <td>0.250</td>\n",
       "    </tr>\n",
       "    <tr>\n",
       "      <th>1</th>\n",
       "      <td>2022-03-21 08:01:00</td>\n",
       "      <td>0.464</td>\n",
       "      <td>0.286</td>\n",
       "      <td>0.250</td>\n",
       "      <td>0.625</td>\n",
       "      <td>-0.316</td>\n",
       "      <td>0.75</td>\n",
       "      <td>0.667</td>\n",
       "      <td>0.417</td>\n",
       "      <td>0.084</td>\n",
       "      <td>0.291</td>\n",
       "      <td>0.384</td>\n",
       "      <td>0.250</td>\n",
       "    </tr>\n",
       "    <tr>\n",
       "      <th>2</th>\n",
       "      <td>2022-03-21 08:02:00</td>\n",
       "      <td>0.429</td>\n",
       "      <td>0.143</td>\n",
       "      <td>0.250</td>\n",
       "      <td>0.625</td>\n",
       "      <td>-0.369</td>\n",
       "      <td>0.75</td>\n",
       "      <td>0.667</td>\n",
       "      <td>0.417</td>\n",
       "      <td>0.084</td>\n",
       "      <td>0.291</td>\n",
       "      <td>0.231</td>\n",
       "      <td>0.167</td>\n",
       "    </tr>\n",
       "    <tr>\n",
       "      <th>3</th>\n",
       "      <td>2022-03-21 08:03:00</td>\n",
       "      <td>0.429</td>\n",
       "      <td>0.143</td>\n",
       "      <td>0.250</td>\n",
       "      <td>0.625</td>\n",
       "      <td>-0.369</td>\n",
       "      <td>0.75</td>\n",
       "      <td>0.667</td>\n",
       "      <td>0.417</td>\n",
       "      <td>0.084</td>\n",
       "      <td>0.291</td>\n",
       "      <td>0.154</td>\n",
       "      <td>0.167</td>\n",
       "    </tr>\n",
       "    <tr>\n",
       "      <th>4</th>\n",
       "      <td>2022-03-21 08:04:00</td>\n",
       "      <td>0.429</td>\n",
       "      <td>0.143</td>\n",
       "      <td>0.250</td>\n",
       "      <td>0.625</td>\n",
       "      <td>-0.369</td>\n",
       "      <td>0.75</td>\n",
       "      <td>0.667</td>\n",
       "      <td>0.417</td>\n",
       "      <td>0.084</td>\n",
       "      <td>0.291</td>\n",
       "      <td>0.154</td>\n",
       "      <td>0.083</td>\n",
       "    </tr>\n",
       "    <tr>\n",
       "      <th>...</th>\n",
       "      <td>...</td>\n",
       "      <td>...</td>\n",
       "      <td>...</td>\n",
       "      <td>...</td>\n",
       "      <td>...</td>\n",
       "      <td>...</td>\n",
       "      <td>...</td>\n",
       "      <td>...</td>\n",
       "      <td>...</td>\n",
       "      <td>...</td>\n",
       "      <td>...</td>\n",
       "      <td>...</td>\n",
       "      <td>...</td>\n",
       "    </tr>\n",
       "    <tr>\n",
       "      <th>5035</th>\n",
       "      <td>2022-03-28 19:55:00</td>\n",
       "      <td>0.714</td>\n",
       "      <td>0.571</td>\n",
       "      <td>-0.250</td>\n",
       "      <td>0.500</td>\n",
       "      <td>0.000</td>\n",
       "      <td>-0.25</td>\n",
       "      <td>0.000</td>\n",
       "      <td>0.000</td>\n",
       "      <td>0.250</td>\n",
       "      <td>0.250</td>\n",
       "      <td>0.846</td>\n",
       "      <td>0.000</td>\n",
       "    </tr>\n",
       "    <tr>\n",
       "      <th>5036</th>\n",
       "      <td>2022-03-28 19:56:00</td>\n",
       "      <td>0.714</td>\n",
       "      <td>0.714</td>\n",
       "      <td>-0.250</td>\n",
       "      <td>0.500</td>\n",
       "      <td>0.000</td>\n",
       "      <td>-0.25</td>\n",
       "      <td>0.000</td>\n",
       "      <td>0.000</td>\n",
       "      <td>0.333</td>\n",
       "      <td>0.250</td>\n",
       "      <td>0.846</td>\n",
       "      <td>0.000</td>\n",
       "    </tr>\n",
       "    <tr>\n",
       "      <th>5037</th>\n",
       "      <td>2022-03-28 19:57:00</td>\n",
       "      <td>0.714</td>\n",
       "      <td>0.714</td>\n",
       "      <td>-0.250</td>\n",
       "      <td>0.500</td>\n",
       "      <td>0.000</td>\n",
       "      <td>-0.25</td>\n",
       "      <td>0.000</td>\n",
       "      <td>0.000</td>\n",
       "      <td>0.333</td>\n",
       "      <td>0.250</td>\n",
       "      <td>0.846</td>\n",
       "      <td>0.000</td>\n",
       "    </tr>\n",
       "    <tr>\n",
       "      <th>5038</th>\n",
       "      <td>2022-03-28 19:58:00</td>\n",
       "      <td>0.714</td>\n",
       "      <td>0.714</td>\n",
       "      <td>-0.167</td>\n",
       "      <td>0.500</td>\n",
       "      <td>0.000</td>\n",
       "      <td>-0.25</td>\n",
       "      <td>0.000</td>\n",
       "      <td>0.000</td>\n",
       "      <td>0.333</td>\n",
       "      <td>0.250</td>\n",
       "      <td>0.846</td>\n",
       "      <td>0.000</td>\n",
       "    </tr>\n",
       "    <tr>\n",
       "      <th>5039</th>\n",
       "      <td>2022-03-28 19:59:00</td>\n",
       "      <td>0.714</td>\n",
       "      <td>0.857</td>\n",
       "      <td>-0.167</td>\n",
       "      <td>0.500</td>\n",
       "      <td>0.000</td>\n",
       "      <td>-0.25</td>\n",
       "      <td>0.000</td>\n",
       "      <td>0.000</td>\n",
       "      <td>0.333</td>\n",
       "      <td>0.250</td>\n",
       "      <td>0.923</td>\n",
       "      <td>0.000</td>\n",
       "    </tr>\n",
       "  </tbody>\n",
       "</table>\n",
       "<p>5040 rows × 13 columns</p>\n",
       "</div>"
      ],
      "text/plain": [
       "               Unnamed: 0  11TH AVE NE BETWEEN NE 47TH ST AND NE 50TH ST  \\\n",
       "0     2022-03-21 08:00:00                                          0.464   \n",
       "1     2022-03-21 08:01:00                                          0.464   \n",
       "2     2022-03-21 08:02:00                                          0.429   \n",
       "3     2022-03-21 08:03:00                                          0.429   \n",
       "4     2022-03-21 08:04:00                                          0.429   \n",
       "...                   ...                                            ...   \n",
       "5035  2022-03-28 19:55:00                                          0.714   \n",
       "5036  2022-03-28 19:56:00                                          0.714   \n",
       "5037  2022-03-28 19:57:00                                          0.714   \n",
       "5038  2022-03-28 19:58:00                                          0.714   \n",
       "5039  2022-03-28 19:59:00                                          0.714   \n",
       "\n",
       "      15TH AVE NE BETWEEN NE 43RD ST AND NE 45TH ST  \\\n",
       "0                                             0.286   \n",
       "1                                             0.286   \n",
       "2                                             0.143   \n",
       "3                                             0.143   \n",
       "4                                             0.143   \n",
       "...                                             ...   \n",
       "5035                                          0.571   \n",
       "5036                                          0.714   \n",
       "5037                                          0.714   \n",
       "5038                                          0.714   \n",
       "5039                                          0.857   \n",
       "\n",
       "      1ST AVE BETWEEN BELL ST AND BATTERY ST  \\\n",
       "0                                      0.250   \n",
       "1                                      0.250   \n",
       "2                                      0.250   \n",
       "3                                      0.250   \n",
       "4                                      0.250   \n",
       "...                                      ...   \n",
       "5035                                  -0.250   \n",
       "5036                                  -0.250   \n",
       "5037                                  -0.250   \n",
       "5038                                  -0.167   \n",
       "5039                                  -0.167   \n",
       "\n",
       "      2ND AVE BETWEEN LENORA ST AND BLANCHARD ST  \\\n",
       "0                                          0.625   \n",
       "1                                          0.625   \n",
       "2                                          0.625   \n",
       "3                                          0.625   \n",
       "4                                          0.625   \n",
       "...                                          ...   \n",
       "5035                                       0.500   \n",
       "5036                                       0.500   \n",
       "5037                                       0.500   \n",
       "5038                                       0.500   \n",
       "5039                                       0.500   \n",
       "\n",
       "      6TH AVE N BETWEEN JOHN ST AND THOMAS ST  \\\n",
       "0                                      -0.316   \n",
       "1                                      -0.316   \n",
       "2                                      -0.369   \n",
       "3                                      -0.369   \n",
       "4                                      -0.369   \n",
       "...                                       ...   \n",
       "5035                                    0.000   \n",
       "5036                                    0.000   \n",
       "5037                                    0.000   \n",
       "5038                                    0.000   \n",
       "5039                                    0.000   \n",
       "\n",
       "      7TH AVE BETWEEN OLIVE WAY AND STEWART ST  \\\n",
       "0                                         0.75   \n",
       "1                                         0.75   \n",
       "2                                         0.75   \n",
       "3                                         0.75   \n",
       "4                                         0.75   \n",
       "...                                        ...   \n",
       "5035                                     -0.25   \n",
       "5036                                     -0.25   \n",
       "5037                                     -0.25   \n",
       "5038                                     -0.25   \n",
       "5039                                     -0.25   \n",
       "\n",
       "      BOYLSTON AVE BETWEEN E PIKE ST AND E PINE ST  \\\n",
       "0                                            0.667   \n",
       "1                                            0.667   \n",
       "2                                            0.667   \n",
       "3                                            0.667   \n",
       "4                                            0.667   \n",
       "...                                            ...   \n",
       "5035                                         0.000   \n",
       "5036                                         0.000   \n",
       "5037                                         0.000   \n",
       "5038                                         0.000   \n",
       "5039                                         0.000   \n",
       "\n",
       "      EASTLAKE AVE E BETWEEN ALOHA ST AND WARD ST  \\\n",
       "0                                           0.417   \n",
       "1                                           0.417   \n",
       "2                                           0.417   \n",
       "3                                           0.417   \n",
       "4                                           0.417   \n",
       "...                                           ...   \n",
       "5035                                        0.000   \n",
       "5036                                        0.000   \n",
       "5037                                        0.000   \n",
       "5038                                        0.000   \n",
       "5039                                        0.000   \n",
       "\n",
       "      FAIRVIEW AVE N BETWEEN JOHN ST AND THOMAS ST  \\\n",
       "0                                            0.084   \n",
       "1                                            0.084   \n",
       "2                                            0.084   \n",
       "3                                            0.084   \n",
       "4                                            0.084   \n",
       "...                                            ...   \n",
       "5035                                         0.250   \n",
       "5036                                         0.333   \n",
       "5037                                         0.333   \n",
       "5038                                         0.333   \n",
       "5039                                         0.333   \n",
       "\n",
       "      FAIRVIEW NR AVE N BETWEEN FAIRVIEW PL N AND ALOHA ST  \\\n",
       "0                                                 0.291      \n",
       "1                                                 0.291      \n",
       "2                                                 0.291      \n",
       "3                                                 0.291      \n",
       "4                                                 0.291      \n",
       "...                                                 ...      \n",
       "5035                                              0.250      \n",
       "5036                                              0.250      \n",
       "5037                                              0.250      \n",
       "5038                                              0.250      \n",
       "5039                                              0.250      \n",
       "\n",
       "      MINOR AVE BETWEEN HOWELL ST AND STEWART ST  \\\n",
       "0                                          0.384   \n",
       "1                                          0.384   \n",
       "2                                          0.231   \n",
       "3                                          0.154   \n",
       "4                                          0.154   \n",
       "...                                          ...   \n",
       "5035                                       0.846   \n",
       "5036                                       0.846   \n",
       "5037                                       0.846   \n",
       "5038                                       0.846   \n",
       "5039                                       0.923   \n",
       "\n",
       "      ROY ST BETWEEN FAIRVIEW AVE N AND MINOR AVE N  \n",
       "0                                             0.250  \n",
       "1                                             0.250  \n",
       "2                                             0.167  \n",
       "3                                             0.167  \n",
       "4                                             0.083  \n",
       "...                                             ...  \n",
       "5035                                          0.000  \n",
       "5036                                          0.000  \n",
       "5037                                          0.000  \n",
       "5038                                          0.000  \n",
       "5039                                          0.000  \n",
       "\n",
       "[5040 rows x 13 columns]"
      ]
     },
     "execution_count": 3,
     "metadata": {},
     "output_type": "execute_result"
    }
   ],
   "source": [
    "occ_diff"
   ]
  },
  {
   "cell_type": "code",
   "execution_count": 4,
   "id": "a282055e",
   "metadata": {},
   "outputs": [
    {
     "name": "stdout",
     "output_type": "stream",
     "text": [
      "15TH AVE NE BETWEEN NE 43RD ST AND NE 45TH ST 2022/03/21\n",
      "[0.10724999999999998, -0.011916666666666666, 0.31886666666666674, 0.05478333333333332, 0.07138333333333331, -0.07401666666666666, 0.09049999999999998, 0.3732166666666667, 0.17606666666666665, 0.15253333333333335, -0.06196666666666665, 0.05719999999999998]\n",
      "-0.011916666666666666\n"
     ]
    }
   ],
   "source": [
    "# Create list of labels (block name and date) and corresponding occupancy difference throughout the days\n",
    "label = []\n",
    "X = []\n",
    "rows = occ_diff.shape[0]\n",
    "columns = occ_diff.shape[1]\n",
    "for i in range(12):\n",
    "    for j in range(7):\n",
    "        date = pd.Timestamp(occ_diff.iloc[j*720,0]).strftime('%Y/%m/%d')\n",
    "        label.append(occ_diff.columns[i+1] + ' ' + date)\n",
    "        day = []\n",
    "        for k in range(12):\n",
    "            day.append(np.average(np.array(occ_diff.iloc[j*720+k*60:(j*720+(k+1)*60),i+1])))\n",
    "        X.append(day)\n",
    "\n",
    "print(label[7])\n",
    "print(X[7])\n",
    "print(np.average(np.array(occ_diff.iloc[60:120,2])))"
   ]
  },
  {
   "cell_type": "code",
   "execution_count": 5,
   "id": "a4f7f2c0",
   "metadata": {},
   "outputs": [],
   "source": [
    "# Cluster occupancy difference data to 5 clusters\n",
    "kmeans = KMeans(n_clusters=5)"
   ]
  },
  {
   "cell_type": "code",
   "execution_count": 6,
   "id": "352af3a2",
   "metadata": {},
   "outputs": [
    {
     "data": {
      "text/plain": [
       "KMeans(n_clusters=5)"
      ]
     },
     "execution_count": 6,
     "metadata": {},
     "output_type": "execute_result"
    }
   ],
   "source": [
    "kmeans.fit(X)"
   ]
  },
  {
   "cell_type": "code",
   "execution_count": 7,
   "id": "cdc74357",
   "metadata": {},
   "outputs": [
    {
     "name": "stdout",
     "output_type": "stream",
     "text": [
      "[1 1 1 1 1 1 1 2 2 2 2 2 2 2 2 4 4 4 4 4 4 3 3 3 3 3 1 3 0 0 0 0 0 4 0 2 2\n",
      " 4 4 2 1 2 3 3 3 3 3 3 3 2 2 2 2 2 2 2 2 2 2 2 2 2 2 2 1 2 1 1 1 2 1 1 1 1\n",
      " 1 1 1 2 2 2 2 2 2 2]\n"
     ]
    }
   ],
   "source": [
    "clusters = kmeans.predict(X)\n",
    "print(clusters)"
   ]
  },
  {
   "cell_type": "code",
   "execution_count": 8,
   "id": "f8b17050",
   "metadata": {},
   "outputs": [],
   "source": [
    "# To visualize the data use PCA to reduce dimension to 2 and plot scatter plot\n",
    "pca_2d = PCA(n_components=2)\n",
    "PCA_2d = pca_2d.fit_transform(X)"
   ]
  },
  {
   "cell_type": "code",
   "execution_count": 9,
   "id": "b80f358b",
   "metadata": {},
   "outputs": [
    {
     "data": {
      "image/png": "[encoded data removed]",
      "text/plain": [
       "<Figure size 720x432 with 1 Axes>"
      ]
     },
     "metadata": {
      "needs_background": "light"
     },
     "output_type": "display_data"
    }
   ],
   "source": [
    "colors = ['b', 'g', 'r', 'm', 'y']\n",
    "color_map = []\n",
    "for index in clusters:\n",
    "    color_map.append(colors[index])\n",
    "plt.figure(figsize=(10,6))\n",
    "plt.scatter(PCA_2d[:,0], PCA_2d[:,1], color=color_map)\n",
    "plt.title(\"Parking Occupancy Difference Clusters\", fontsize=20)\n",
    "plt.ylabel(\"Principle Component 2\", fontsize=15)\n",
    "plt.xlabel(\"Principle Component 1\", fontsize=15)\n",
    "plt.show()"
   ]
  },
  {
   "cell_type": "code",
   "execution_count": 26,
   "id": "4d722eff",
   "metadata": {},
   "outputs": [],
   "source": [
    "# Sort all the block names and date of each cluster into their own list\n",
    "cluster_names = {0: [],\n",
    "                 1: [],\n",
    "                 2: [],\n",
    "                 3: [],\n",
    "                 4: []}\n",
    "\n",
    "for i in range(len(label)):\n",
    "    index = clusters[i]\n",
    "    cluster_names[index].append(label[i])\n",
    "        "
   ]
  },
  {
   "cell_type": "code",
   "execution_count": 27,
   "id": "1bd922f7",
   "metadata": {},
   "outputs": [],
   "source": [
    "# Convert cluster lists to dataframe to be exported as csv to read\n",
    "occ_clusters = pd.DataFrame.from_dict(cluster_names, orient='index').transpose()\n"
   ]
  },
  {
   "cell_type": "code",
   "execution_count": 28,
   "id": "b9257dfe",
   "metadata": {},
   "outputs": [],
   "source": [
    "occ_clusters.to_csv('./clusters.csv')"
   ]
  },
  {
   "cell_type": "code",
   "execution_count": 29,
   "id": "86be5103",
   "metadata": {},
   "outputs": [],
   "source": [
    "# Sort corresponding occupancy difference throughout the days to their own cluster list\n",
    "cluster_occ_diff = {0: [],\n",
    "                    1: [],\n",
    "                    2: [],\n",
    "                    3: [],\n",
    "                    4: []}\n",
    "\n",
    "for i in range(len(label)):\n",
    "    index = clusters[i]\n",
    "    cluster_occ_diff[index].append(np.array(X[i]))"
   ]
  },
  {
   "cell_type": "code",
   "execution_count": 56,
   "id": "74864492",
   "metadata": {},
   "outputs": [],
   "source": [
    "# Take the over average occupancy difference throughout the days for each clusters\n",
    "avg_cluster1 = np.average(cluster_occ_diff[0], axis=0)\n",
    "avg_cluster2 = np.average(cluster_occ_diff[1], axis=0)\n",
    "avg_cluster3 = np.average(cluster_occ_diff[2], axis=0)\n",
    "avg_cluster4 = np.average(cluster_occ_diff[3], axis=0)\n",
    "avg_cluster5 = np.average(cluster_occ_diff[4], axis=0)"
   ]
  },
  {
   "cell_type": "code",
   "execution_count": 36,
   "id": "c1d17c3d",
   "metadata": {},
   "outputs": [
    {
     "data": {
      "image/png": "[encoded data removed]",
      "text/plain": [
       "<Figure size 720x432 with 1 Axes>"
      ]
     },
     "metadata": {
      "needs_background": "light"
     },
     "output_type": "display_data"
    }
   ],
   "source": [
    "plt.figure(figsize=(10,6))\n",
    "paid_hour = np.arange(8,20,1)\n",
    "plt.title(\"Cluster 1 Occupancy Difference\")\n",
    "plt.bar(paid_hour, avg_cluster1, color=colors[0])\n",
    "plt.ylabel(\"Occupancy Difference\")\n",
    "plt.xlabel(\"Hours\")\n",
    "plt.xticks(paid_hour)\n",
    "plt.show()"
   ]
  },
  {
   "cell_type": "code",
   "execution_count": 37,
   "id": "662d67d4",
   "metadata": {},
   "outputs": [
    {
     "name": "stdout",
     "output_type": "stream",
     "text": [
      "['6TH AVE N BETWEEN JOHN ST AND THOMAS ST 2022/03/21', '6TH AVE N BETWEEN JOHN ST AND THOMAS ST 2022/03/22', '6TH AVE N BETWEEN JOHN ST AND THOMAS ST 2022/03/23', '6TH AVE N BETWEEN JOHN ST AND THOMAS ST 2022/03/24', '6TH AVE N BETWEEN JOHN ST AND THOMAS ST 2022/03/25', '6TH AVE N BETWEEN JOHN ST AND THOMAS ST 2022/03/28']\n"
     ]
    }
   ],
   "source": [
    "print(cluster_names[0])"
   ]
  },
  {
   "cell_type": "code",
   "execution_count": 38,
   "id": "37282d70",
   "metadata": {},
   "outputs": [
    {
     "data": {
      "image/png": "[encoded data removed]",
      "text/plain": [
       "<Figure size 720x432 with 1 Axes>"
      ]
     },
     "metadata": {
      "needs_background": "light"
     },
     "output_type": "display_data"
    }
   ],
   "source": [
    "plt.figure(figsize=(10,6))\n",
    "paid_hour = np.arange(8,20,1)\n",
    "plt.title(\"Cluster 2 Occupancy Difference\")\n",
    "plt.bar(paid_hour, avg_cluster2, color=colors[1])\n",
    "plt.ylabel(\"Occupancy Difference\")\n",
    "plt.xlabel(\"Hours\")\n",
    "plt.xticks(paid_hour)\n",
    "plt.show()"
   ]
  },
  {
   "cell_type": "code",
   "execution_count": 39,
   "id": "c1996434",
   "metadata": {},
   "outputs": [
    {
     "name": "stdout",
     "output_type": "stream",
     "text": [
      "['11TH AVE NE BETWEEN NE 47TH ST AND NE 50TH ST 2022/03/21', '11TH AVE NE BETWEEN NE 47TH ST AND NE 50TH ST 2022/03/22', '11TH AVE NE BETWEEN NE 47TH ST AND NE 50TH ST 2022/03/23', '11TH AVE NE BETWEEN NE 47TH ST AND NE 50TH ST 2022/03/24', '11TH AVE NE BETWEEN NE 47TH ST AND NE 50TH ST 2022/03/25', '11TH AVE NE BETWEEN NE 47TH ST AND NE 50TH ST 2022/03/26', '11TH AVE NE BETWEEN NE 47TH ST AND NE 50TH ST 2022/03/28', '2ND AVE BETWEEN LENORA ST AND BLANCHARD ST 2022/03/26', '7TH AVE BETWEEN OLIVE WAY AND STEWART ST 2022/03/26', 'FAIRVIEW NR AVE N BETWEEN FAIRVIEW PL N AND ALOHA ST 2022/03/22', 'FAIRVIEW NR AVE N BETWEEN FAIRVIEW PL N AND ALOHA ST 2022/03/24', 'FAIRVIEW NR AVE N BETWEEN FAIRVIEW PL N AND ALOHA ST 2022/03/25', 'FAIRVIEW NR AVE N BETWEEN FAIRVIEW PL N AND ALOHA ST 2022/03/26', 'MINOR AVE BETWEEN HOWELL ST AND STEWART ST 2022/03/21', 'MINOR AVE BETWEEN HOWELL ST AND STEWART ST 2022/03/22', 'MINOR AVE BETWEEN HOWELL ST AND STEWART ST 2022/03/23', 'MINOR AVE BETWEEN HOWELL ST AND STEWART ST 2022/03/24', 'MINOR AVE BETWEEN HOWELL ST AND STEWART ST 2022/03/25', 'MINOR AVE BETWEEN HOWELL ST AND STEWART ST 2022/03/26', 'MINOR AVE BETWEEN HOWELL ST AND STEWART ST 2022/03/28']\n"
     ]
    }
   ],
   "source": [
    "print(cluster_names[1])"
   ]
  },
  {
   "cell_type": "code",
   "execution_count": 40,
   "id": "0dde6b36",
   "metadata": {},
   "outputs": [
    {
     "data": {
      "image/png": "[encoded data removed]",
      "text/plain": [
       "<Figure size 720x432 with 1 Axes>"
      ]
     },
     "metadata": {
      "needs_background": "light"
     },
     "output_type": "display_data"
    }
   ],
   "source": [
    "plt.figure(figsize=(10,6))\n",
    "paid_hour = np.arange(8,20,1)\n",
    "plt.title(\"Cluster 3 Occupancy Difference\")\n",
    "plt.bar(paid_hour, avg_cluster3, color=colors[2])\n",
    "plt.ylabel(\"Occupancy Difference\")\n",
    "plt.xlabel(\"Hours\")\n",
    "plt.xticks(paid_hour)\n",
    "plt.show()"
   ]
  },
  {
   "cell_type": "code",
   "execution_count": 41,
   "id": "a51daa7c",
   "metadata": {},
   "outputs": [
    {
     "name": "stdout",
     "output_type": "stream",
     "text": [
      "['15TH AVE NE BETWEEN NE 43RD ST AND NE 45TH ST 2022/03/21', '15TH AVE NE BETWEEN NE 43RD ST AND NE 45TH ST 2022/03/22', '15TH AVE NE BETWEEN NE 43RD ST AND NE 45TH ST 2022/03/23', '15TH AVE NE BETWEEN NE 43RD ST AND NE 45TH ST 2022/03/24', '15TH AVE NE BETWEEN NE 43RD ST AND NE 45TH ST 2022/03/25', '15TH AVE NE BETWEEN NE 43RD ST AND NE 45TH ST 2022/03/26', '15TH AVE NE BETWEEN NE 43RD ST AND NE 45TH ST 2022/03/28', '1ST AVE BETWEEN BELL ST AND BATTERY ST 2022/03/21', '7TH AVE BETWEEN OLIVE WAY AND STEWART ST 2022/03/21', '7TH AVE BETWEEN OLIVE WAY AND STEWART ST 2022/03/22', '7TH AVE BETWEEN OLIVE WAY AND STEWART ST 2022/03/25', '7TH AVE BETWEEN OLIVE WAY AND STEWART ST 2022/03/28', 'EASTLAKE AVE E BETWEEN ALOHA ST AND WARD ST 2022/03/21', 'EASTLAKE AVE E BETWEEN ALOHA ST AND WARD ST 2022/03/22', 'EASTLAKE AVE E BETWEEN ALOHA ST AND WARD ST 2022/03/23', 'EASTLAKE AVE E BETWEEN ALOHA ST AND WARD ST 2022/03/24', 'EASTLAKE AVE E BETWEEN ALOHA ST AND WARD ST 2022/03/25', 'EASTLAKE AVE E BETWEEN ALOHA ST AND WARD ST 2022/03/26', 'EASTLAKE AVE E BETWEEN ALOHA ST AND WARD ST 2022/03/28', 'FAIRVIEW AVE N BETWEEN JOHN ST AND THOMAS ST 2022/03/21', 'FAIRVIEW AVE N BETWEEN JOHN ST AND THOMAS ST 2022/03/22', 'FAIRVIEW AVE N BETWEEN JOHN ST AND THOMAS ST 2022/03/23', 'FAIRVIEW AVE N BETWEEN JOHN ST AND THOMAS ST 2022/03/24', 'FAIRVIEW AVE N BETWEEN JOHN ST AND THOMAS ST 2022/03/25', 'FAIRVIEW AVE N BETWEEN JOHN ST AND THOMAS ST 2022/03/26', 'FAIRVIEW AVE N BETWEEN JOHN ST AND THOMAS ST 2022/03/28', 'FAIRVIEW NR AVE N BETWEEN FAIRVIEW PL N AND ALOHA ST 2022/03/21', 'FAIRVIEW NR AVE N BETWEEN FAIRVIEW PL N AND ALOHA ST 2022/03/23', 'FAIRVIEW NR AVE N BETWEEN FAIRVIEW PL N AND ALOHA ST 2022/03/28', 'ROY ST BETWEEN FAIRVIEW AVE N AND MINOR AVE N 2022/03/21', 'ROY ST BETWEEN FAIRVIEW AVE N AND MINOR AVE N 2022/03/22', 'ROY ST BETWEEN FAIRVIEW AVE N AND MINOR AVE N 2022/03/23', 'ROY ST BETWEEN FAIRVIEW AVE N AND MINOR AVE N 2022/03/24', 'ROY ST BETWEEN FAIRVIEW AVE N AND MINOR AVE N 2022/03/25', 'ROY ST BETWEEN FAIRVIEW AVE N AND MINOR AVE N 2022/03/26', 'ROY ST BETWEEN FAIRVIEW AVE N AND MINOR AVE N 2022/03/28']\n"
     ]
    }
   ],
   "source": [
    "print(cluster_names[2])"
   ]
  },
  {
   "cell_type": "code",
   "execution_count": 42,
   "id": "30edd57c",
   "metadata": {},
   "outputs": [
    {
     "data": {
      "image/png": "[encoded data removed]",
      "text/plain": [
       "<Figure size 720x432 with 1 Axes>"
      ]
     },
     "metadata": {
      "needs_background": "light"
     },
     "output_type": "display_data"
    }
   ],
   "source": [
    "plt.figure(figsize=(10,6))\n",
    "paid_hour = np.arange(8,20,1)\n",
    "plt.title(\"Cluster 4 Occupancy Difference\")\n",
    "plt.bar(paid_hour, avg_cluster4, color=colors[3])\n",
    "plt.ylabel(\"Occupancy Difference\")\n",
    "plt.xlabel(\"Hours\")\n",
    "plt.xticks(paid_hour)\n",
    "plt.show()"
   ]
  },
  {
   "cell_type": "code",
   "execution_count": 43,
   "id": "67da7bb9",
   "metadata": {},
   "outputs": [
    {
     "name": "stdout",
     "output_type": "stream",
     "text": [
      "['2ND AVE BETWEEN LENORA ST AND BLANCHARD ST 2022/03/21', '2ND AVE BETWEEN LENORA ST AND BLANCHARD ST 2022/03/22', '2ND AVE BETWEEN LENORA ST AND BLANCHARD ST 2022/03/23', '2ND AVE BETWEEN LENORA ST AND BLANCHARD ST 2022/03/24', '2ND AVE BETWEEN LENORA ST AND BLANCHARD ST 2022/03/25', '2ND AVE BETWEEN LENORA ST AND BLANCHARD ST 2022/03/28', 'BOYLSTON AVE BETWEEN E PIKE ST AND E PINE ST 2022/03/21', 'BOYLSTON AVE BETWEEN E PIKE ST AND E PINE ST 2022/03/22', 'BOYLSTON AVE BETWEEN E PIKE ST AND E PINE ST 2022/03/23', 'BOYLSTON AVE BETWEEN E PIKE ST AND E PINE ST 2022/03/24', 'BOYLSTON AVE BETWEEN E PIKE ST AND E PINE ST 2022/03/25', 'BOYLSTON AVE BETWEEN E PIKE ST AND E PINE ST 2022/03/26', 'BOYLSTON AVE BETWEEN E PIKE ST AND E PINE ST 2022/03/28']\n"
     ]
    }
   ],
   "source": [
    "print(cluster_names[3])"
   ]
  },
  {
   "cell_type": "code",
   "execution_count": 57,
   "id": "91e69cce",
   "metadata": {},
   "outputs": [
    {
     "data": {
      "image/png": "[encoded data removed]",
      "text/plain": [
       "<Figure size 720x432 with 1 Axes>"
      ]
     },
     "metadata": {
      "needs_background": "light"
     },
     "output_type": "display_data"
    }
   ],
   "source": [
    "plt.figure(figsize=(10,6))\n",
    "paid_hour = np.arange(8,20,1)\n",
    "plt.title(\"Cluster 5 Occupancy Difference\")\n",
    "plt.bar(paid_hour, avg_cluster5, color=colors[4])\n",
    "plt.ylabel(\"Occupancy Difference\")\n",
    "plt.xlabel(\"Hours\")\n",
    "plt.xticks(paid_hour)\n",
    "plt.show()"
   ]
  },
  {
   "cell_type": "code",
   "execution_count": 46,
   "id": "2871946c",
   "metadata": {},
   "outputs": [
    {
     "name": "stdout",
     "output_type": "stream",
     "text": [
      "['1ST AVE BETWEEN BELL ST AND BATTERY ST 2022/03/22', '1ST AVE BETWEEN BELL ST AND BATTERY ST 2022/03/23', '1ST AVE BETWEEN BELL ST AND BATTERY ST 2022/03/24', '1ST AVE BETWEEN BELL ST AND BATTERY ST 2022/03/25', '1ST AVE BETWEEN BELL ST AND BATTERY ST 2022/03/26', '1ST AVE BETWEEN BELL ST AND BATTERY ST 2022/03/28', '6TH AVE N BETWEEN JOHN ST AND THOMAS ST 2022/03/26', '7TH AVE BETWEEN OLIVE WAY AND STEWART ST 2022/03/23', '7TH AVE BETWEEN OLIVE WAY AND STEWART ST 2022/03/24']\n"
     ]
    }
   ],
   "source": [
    "print(cluster_names[4])"
   ]
  },
  {
   "cell_type": "code",
   "execution_count": 25,
   "id": "f4259589",
   "metadata": {},
   "outputs": [
    {
     "name": "stdout",
     "output_type": "stream",
     "text": [
      "[8.00e+02 2.80e+01 2.86e-01]\n",
      "0.75\n"
     ]
    }
   ],
   "source": [
    "X_data = pd.read_csv('X_data.csv')\n",
    "X_data = np.array(X_data.values.tolist())\n",
    "X_data = X_data[:,1:]\n",
    "print(X_data[0])\n",
    "\n",
    "Y_data = pd.read_csv('Y_data.csv')\n",
    "Y_data = np.array(Y_data.values.tolist())\n",
    "Y_data = Y_data[:,1]\n",
    "print(Y_data[0])"
   ]
  },
  {
   "cell_type": "code",
   "execution_count": 78,
   "id": "6359539a",
   "metadata": {},
   "outputs": [],
   "source": [
    "# Separate out data from Wednesday and Tuesday\n",
    "block_index = 5040\n",
    "\n",
    "\n",
    "x1_a = X_data[block_index:2*block_index]\n",
    "x1_b = X_data[5*block_index:6*block_index]\n",
    "x1_c = X_data[7*block_index:8*block_index]\n",
    "x1_d = X_data[8*block_index:9*block_index]\n",
    "x1_e = X_data[11*block_index:12*block_index]\n",
    "\n",
    "y1_a = Y_data[block_index:2*block_index]\n",
    "y1_b = Y_data[5*block_index:6*block_index]\n",
    "y1_c = Y_data[7*block_index:8*block_index]\n",
    "y1_d = Y_data[8*block_index:9*block_index]\n",
    "y1_e = Y_data[11*block_index:12*block_index]\n",
    "\n",
    "Y_cluster1 = np.concatenate((y1_a, y1_b, y1_c, y1_d, y1_e))\n",
    "X_cluster1 = np.concatenate((x1_a, x1_b, x1_c, x1_d, x1_e))\n",
    "\n",
    "\n",
    "x2_a = X_data[0:block_index]\n",
    "x2_b = X_data[9*block_index:10*block_index]\n",
    "x2_c = X_data[10*block_index:11*block_index]\n",
    "\n",
    "y2_a = Y_data[0:block_index]\n",
    "y2_b = Y_data[9*block_index:10*block_index]\n",
    "y2_c = Y_data[10*block_index:11*block_index]\n",
    "\n",
    "Y_cluster2 = np.concatenate((y2_a, y2_b, y2_c))\n",
    "X_cluster2 = np.concatenate((x2_a, x2_b, x2_c))\n",
    "\n",
    "x3_a = X_data[2*block_index:3*block_index]\n",
    "y3_a = Y_data[2*block_index:3*block_index]\n",
    "\n",
    "Y_cluster3 = y3_a\n",
    "X_cluster3 = x3_a\n",
    "\n",
    "x4_a = X_data[4*block_index:5*block_index]\n",
    "y4_a = Y_data[4*block_index:5*block_index]\n",
    "\n",
    "Y_cluster4 = y4_a\n",
    "X_cluster4 = x4_a\n",
    "\n",
    "x5_a = X_data[3*block_index:4*block_index]\n",
    "x5_b = X_data[6*block_index:7*block_index]\n",
    "y5_a = Y_data[3*block_index:4*block_index]\n",
    "y5_b = Y_data[6*block_index:7*block_index]\n",
    "\n",
    "Y_cluster5 = np.concatenate((y5_a, y5_b))\n",
    "X_cluster5 = np.concatenate((x5_a, x5_b))"
   ]
  },
  {
   "cell_type": "code",
   "execution_count": 106,
   "id": "120555b4",
   "metadata": {},
   "outputs": [],
   "source": [
    "# PCR for cluster 3\n",
    "X_train, X_test, y_train, y_test = train_test_split(X_cluster1, Y_cluster1, test_size=0.20, random_state=42)"
   ]
  },
  {
   "cell_type": "code",
   "execution_count": 107,
   "id": "f2263571",
   "metadata": {},
   "outputs": [
    {
     "name": "stdout",
     "output_type": "stream",
     "text": [
      "[4.60738764 4.60556658 3.81991243]\n"
     ]
    }
   ],
   "source": [
    "pcr1 = make_pipeline(StandardScaler(), PCA(n_components=1), LinearRegression())\n",
    "pcr2 = make_pipeline(StandardScaler(), PCA(n_components=2), LinearRegression())\n",
    "pcr3 = make_pipeline(StandardScaler(), PCA(n_components=3), LinearRegression())\n",
    "\n",
    "pcr1.fit(X_train, y_train)\n",
    "pcr2.fit(X_train, y_train)\n",
    "pcr3.fit(X_train, y_train)\n",
    "\n",
    "X_predict1 = pcr1.predict(X_test)\n",
    "X_predict2 = pcr2.predict(X_test)\n",
    "X_predict3 = pcr3.predict(X_test)\n",
    "\n",
    "pca_error = np.array((0.0,0.0,0.0))\n",
    "\n",
    "for i in range(len(y_test)):\n",
    "    pca_error[0] += (y_test[i] - X_predict1[i])**2\n",
    "    pca_error[1] += (y_test[i] - X_predict2[i])**2\n",
    "    pca_error[2] += (y_test[i] - X_predict3[i])**2\n",
    "\n",
    "pca_error_avg = pca_error / len(y_test) * 100\n",
    "\n",
    "print(pca_error_avg)"
   ]
  },
  {
   "cell_type": "code",
   "execution_count": 108,
   "id": "10a856e6",
   "metadata": {},
   "outputs": [
    {
     "data": {
      "image/png": "[encoded data removed]",
      "text/plain": [
       "<Figure size 720x432 with 1 Axes>"
      ]
     },
     "metadata": {
      "needs_background": "light"
     },
     "output_type": "display_data"
    }
   ],
   "source": [
    "# Plot Average Error percentage vs number of components used in PCR for cluster 3\n",
    "n_comp = np.arange(1,4)\n",
    "\n",
    "plt.figure(figsize=(10,6))\n",
    "plt.title('PCR with Cluster 3')\n",
    "plt.scatter(n_comp, pca_error_avg)\n",
    "plt.ylabel(\"Average Error Percentage\")\n",
    "plt.xlabel(\"Number of Components\")\n",
    "plt.xticks(range(1,4))\n",
    "plt.show()"
   ]
  },
  {
   "cell_type": "code",
   "execution_count": 109,
   "id": "60affed2",
   "metadata": {},
   "outputs": [],
   "source": [
    "# PCR for cluster 2\n",
    "X_train, X_test, y_train, y_test = train_test_split(X_cluster2, Y_cluster2, test_size=0.20, random_state=42)"
   ]
  },
  {
   "cell_type": "code",
   "execution_count": 110,
   "id": "782cbd7f",
   "metadata": {},
   "outputs": [
    {
     "name": "stdout",
     "output_type": "stream",
     "text": [
      "[3.34491863 3.28058909 3.11885673]\n"
     ]
    }
   ],
   "source": [
    "pcr1.fit(X_train, y_train)\n",
    "pcr2.fit(X_train, y_train)\n",
    "pcr3.fit(X_train, y_train)\n",
    "\n",
    "X_predict1 = pcr1.predict(X_test)\n",
    "X_predict2 = pcr2.predict(X_test)\n",
    "X_predict3 = pcr3.predict(X_test)\n",
    "\n",
    "pca_error = np.array((0.0,0.0,0.0))\n",
    "\n",
    "for i in range(len(y_test)):\n",
    "    pca_error[0] += (y_test[i] - X_predict1[i])**2\n",
    "    pca_error[1] += (y_test[i] - X_predict2[i])**2\n",
    "    pca_error[2] += (y_test[i] - X_predict3[i])**2\n",
    "\n",
    "pca_error_avg = pca_error / len(y_test) * 100\n",
    "\n",
    "print(pca_error_avg)"
   ]
  },
  {
   "cell_type": "code",
   "execution_count": 111,
   "id": "2d1f4fd6",
   "metadata": {},
   "outputs": [
    {
     "data": {
      "image/png": "[encoded data removed]",
      "text/plain": [
       "<Figure size 720x432 with 1 Axes>"
      ]
     },
     "metadata": {
      "needs_background": "light"
     },
     "output_type": "display_data"
    }
   ],
   "source": [
    "n_comp = np.arange(1,4)\n",
    "\n",
    "plt.figure(figsize=(10,6))\n",
    "plt.title('PCR with cluster 2')\n",
    "plt.scatter(n_comp, pca_error_avg)\n",
    "plt.ylabel(\"Average Error Percentage\")\n",
    "plt.xlabel(\"Number of Components\")\n",
    "plt.xticks(range(1,4))\n",
    "plt.show()"
   ]
  },
  {
   "cell_type": "code",
   "execution_count": 148,
   "id": "1dcc26ef",
   "metadata": {},
   "outputs": [
    {
     "name": "stdout",
     "output_type": "stream",
     "text": [
      "[[8.000e+02 1.200e+01 8.300e-02]\n",
      " [8.010e+02 1.200e+01 8.300e-02]\n",
      " [8.020e+02 1.200e+01 8.300e-02]\n",
      " ...\n",
      " [1.957e+03 1.200e+01 1.083e+00]\n",
      " [1.958e+03 1.200e+01 1.000e+00]\n",
      " [1.959e+03 1.200e+01 1.000e+00]]\n"
     ]
    }
   ],
   "source": [
    "# PCR for cluster 5\n",
    "X_train, X_test, y_train, y_test = train_test_split(X_cluster3, Y_cluster3, test_size=0.20, random_state=42)"
   ]
  },
  {
   "cell_type": "code",
   "execution_count": 149,
   "id": "0a9df4f1",
   "metadata": {},
   "outputs": [
    {
     "name": "stdout",
     "output_type": "stream",
     "text": [
      "[4.04480744 4.03966833 4.03966833]\n"
     ]
    }
   ],
   "source": [
    "pcr1.fit(X_train, y_train)\n",
    "pcr2.fit(X_train, y_train)\n",
    "pcr3.fit(X_train, y_train)\n",
    "\n",
    "X_predict1 = pcr1.predict(X_test)\n",
    "X_predict2 = pcr2.predict(X_test)\n",
    "X_predict3 = pcr3.predict(X_test)\n",
    "\n",
    "pca_error = np.array((0.0,0.0,0.0))\n",
    "\n",
    "for i in range(len(y_test)):\n",
    "    pca_error[0] += (y_test[i] - X_predict1[i])**2\n",
    "    pca_error[1] += (y_test[i] - X_predict2[i])**2\n",
    "    pca_error[2] += (y_test[i] - X_predict3[i])**2\n",
    "\n",
    "pca_error_avg = pca_error / len(y_test) * 100\n",
    "\n",
    "print(pca_error_avg)"
   ]
  },
  {
   "cell_type": "code",
   "execution_count": 150,
   "id": "709fde62",
   "metadata": {},
   "outputs": [
    {
     "data": {
      "image/png": "[encoded data removed]",
      "text/plain": [
       "<Figure size 720x432 with 1 Axes>"
      ]
     },
     "metadata": {
      "needs_background": "light"
     },
     "output_type": "display_data"
    }
   ],
   "source": [
    "n_comp = np.arange(1,4)\n",
    "\n",
    "plt.figure(figsize=(10,6))\n",
    "plt.title('PCR with cluster 5')\n",
    "plt.scatter(n_comp, pca_error_avg)\n",
    "plt.ylabel(\"Average Error Percentage\")\n",
    "plt.xlabel(\"Number of Components\")\n",
    "plt.xticks(range(1,4))\n",
    "plt.show()"
   ]
  },
  {
   "cell_type": "code",
   "execution_count": 139,
   "id": "9d63edab",
   "metadata": {},
   "outputs": [],
   "source": [
    "# PCR for cluster 1\n",
    "X_train, X_test, y_train, y_test = train_test_split(X_cluster4, Y_cluster4, test_size=0.20, random_state=42)"
   ]
  },
  {
   "cell_type": "code",
   "execution_count": 140,
   "id": "e1f86a6f",
   "metadata": {},
   "outputs": [
    {
     "name": "stdout",
     "output_type": "stream",
     "text": [
      "[1.60211686 1.23520578 1.23520578]\n"
     ]
    }
   ],
   "source": [
    "pcr1.fit(X_train, y_train)\n",
    "pcr2.fit(X_train, y_train)\n",
    "pcr3.fit(X_train, y_train)\n",
    "\n",
    "X_predict1 = pcr1.predict(X_test)\n",
    "X_predict2 = pcr2.predict(X_test)\n",
    "X_predict3 = pcr3.predict(X_test)\n",
    "\n",
    "pca_error = np.array((0.0,0.0,0.0))\n",
    "\n",
    "for i in range(len(y_test)):\n",
    "    pca_error[0] += (y_test[i] - X_predict1[i])**2\n",
    "    pca_error[1] += (y_test[i] - X_predict2[i])**2\n",
    "    pca_error[2] += (y_test[i] - X_predict3[i])**2\n",
    "\n",
    "pca_error_avg = pca_error / len(y_test) * 100\n",
    "\n",
    "print(pca_error_avg)"
   ]
  },
  {
   "cell_type": "code",
   "execution_count": 141,
   "id": "4ef90abc",
   "metadata": {},
   "outputs": [
    {
     "data": {
      "image/png": "[encoded data removed]",
      "text/plain": [
       "<Figure size 720x432 with 1 Axes>"
      ]
     },
     "metadata": {
      "needs_background": "light"
     },
     "output_type": "display_data"
    }
   ],
   "source": [
    "n_comp = np.arange(1,4)\n",
    "\n",
    "plt.figure(figsize=(10,6))\n",
    "plt.title('PCR with cluster 1')\n",
    "plt.scatter(n_comp, pca_error_avg)\n",
    "plt.ylabel(\"Average Error Percentage\")\n",
    "plt.xlabel(\"Number of Components\")\n",
    "plt.xticks(range(1,4))\n",
    "plt.show()"
   ]
  },
  {
   "cell_type": "code",
   "execution_count": 133,
   "id": "28b2ebc6",
   "metadata": {},
   "outputs": [],
   "source": [
    "# PCR for cluster 4\n",
    "X_train, X_test, y_train, y_test = train_test_split(X_cluster5, Y_cluster5, test_size=0.20, random_state=42)"
   ]
  },
  {
   "cell_type": "code",
   "execution_count": 134,
   "id": "d7f77bb4",
   "metadata": {},
   "outputs": [
    {
     "name": "stdout",
     "output_type": "stream",
     "text": [
      "[2.2266353  2.08336947 2.08047766]\n"
     ]
    }
   ],
   "source": [
    "pcr1.fit(X_train, y_train)\n",
    "pcr2.fit(X_train, y_train)\n",
    "pcr3.fit(X_train, y_train)\n",
    "\n",
    "X_predict1 = pcr1.predict(X_test)\n",
    "X_predict2 = pcr2.predict(X_test)\n",
    "X_predict3 = pcr3.predict(X_test)\n",
    "\n",
    "pca_error = np.array((0.0,0.0,0.0))\n",
    "\n",
    "for i in range(len(y_test)):\n",
    "    pca_error[0] += (y_test[i] - X_predict1[i])**2\n",
    "    pca_error[1] += (y_test[i] - X_predict2[i])**2\n",
    "    pca_error[2] += (y_test[i] - X_predict3[i])**2\n",
    "\n",
    "pca_error_avg = pca_error / len(y_test) * 100\n",
    "\n",
    "print(pca_error_avg)"
   ]
  },
  {
   "cell_type": "code",
   "execution_count": 135,
   "id": "ed8ab508",
   "metadata": {},
   "outputs": [
    {
     "data": {
      "image/png": "[encoded data removed]",
      "text/plain": [
       "<Figure size 720x432 with 1 Axes>"
      ]
     },
     "metadata": {
      "needs_background": "light"
     },
     "output_type": "display_data"
    }
   ],
   "source": [
    "n_comp = np.arange(1,4)\n",
    "\n",
    "plt.figure(figsize=(10,6))\n",
    "plt.title('PCR with cluster 4')\n",
    "plt.scatter(n_comp, pca_error_avg)\n",
    "plt.ylabel(\"Average Error Percentage\")\n",
    "plt.xlabel(\"Number of Components\")\n",
    "plt.xticks(range(1,4))\n",
    "plt.show()"
   ]
  },
  {
   "cell_type": "code",
   "execution_count": null,
   "id": "cca40fc0",
   "metadata": {},
   "outputs": [],
   "source": []
  }
 ],
 "metadata": {
  "kernelspec": {
   "display_name": "Python 3 (ipykernel)",
   "language": "python",
   "name": "python3"
  },
  "language_info": {
   "codemirror_mode": {
    "name": "ipython",
    "version": 3
   },
   "file_extension": ".py",
   "mimetype": "text/x-python",
   "name": "python",
   "nbconvert_exporter": "python",
   "pygments_lexer": "ipython3",
   "version": "3.9.12"
  }
 },
 "nbformat": 4,
 "nbformat_minor": 5
}
