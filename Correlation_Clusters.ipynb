{
  "nbformat": 4,
  "nbformat_minor": 0,
  "metadata": {
    "colab": {
      "provenance": [],
      "collapsed_sections": [],
      "authorship_tag": "ABX9TyMUl4mzXl/4iwpnzhSBJQdq"
    },
    "kernelspec": {
      "name": "python3",
      "display_name": "Python 3"
    },
    "language_info": {
      "name": "python"
    }
  },
  "cells": [
    {
      "cell_type": "code",
      "source": [
        "import pandas as pd\n",
        "import numpy as np\n",
        "import matplotlib.pyplot as plt\n",
        "from sklearn.cluster import KMeans\n",
        "from sklearn.decomposition import PCA"
      ],
      "metadata": {
        "id": "arE0wIcYw79z"
      },
      "execution_count": 14,
      "outputs": []
    },
    {
      "cell_type": "code",
      "source": [
        "corr = pd.read_csv(\"./data/corr_matrix.csv\")"
      ],
      "metadata": {
        "id": "YJVZS12pxQAw"
      },
      "execution_count": 4,
      "outputs": []
    },
    {
      "cell_type": "markdown",
      "source": [
        "## Clustering Correlation Coefficients"
      ],
      "metadata": {
        "id": "pczdsda_1Lbi"
      }
    },
    {
      "cell_type": "code",
      "source": [
        "block_names = list(corr.columns)\n",
        "corr_matrix = corr.to_numpy(dtype=float)"
      ],
      "metadata": {
        "id": "XKcPYLpmytvT"
      },
      "execution_count": 7,
      "outputs": []
    },
    {
      "cell_type": "code",
      "source": [
        "kmeans = KMeans(n_clusters=4)\n",
        "kmeans.fit(corr_matrix)\n",
        "clusters = kmeans.predict(corr_matrix)\n",
        "print(clusters)"
      ],
      "metadata": {
        "colab": {
          "base_uri": "https://localhost:8080/"
        },
        "id": "wuL3uNIzyu_Y",
        "outputId": "dcb284e0-bd52-4589-b305-66a399a6d38d"
      },
      "execution_count": 28,
      "outputs": [
        {
          "output_type": "stream",
          "name": "stdout",
          "text": [
            "[1 3 3 3 1 0 3 1 3 2 0 1]\n"
          ]
        }
      ]
    },
    {
      "cell_type": "code",
      "source": [
        "cluster_names = {0: [],\n",
        "                 1: [],\n",
        "                 2: [],\n",
        "                 3: [],}\n",
        "\n",
        "for i in range(len(clusters)):\n",
        "    index = clusters[i]\n",
        "    cluster_names[index].append(block_names[i])\n",
        "  \n",
        "print(cluster_names)"
      ],
      "metadata": {
        "colab": {
          "base_uri": "https://localhost:8080/"
        },
        "id": "JEMo9SrU150B",
        "outputId": "3b6c354b-4ba1-4dd0-c846-58816acae913"
      },
      "execution_count": 35,
      "outputs": [
        {
          "output_type": "stream",
          "name": "stdout",
          "text": [
            "{0: ['7TH AVE BETWEEN OLIVE WAY AND STEWART ST', 'MINOR AVE BETWEEN HOWELL ST AND STEWART ST'], 1: ['11TH AVE NE BETWEEN NE 47TH ST AND NE 50TH ST', '6TH AVE N BETWEEN JOHN ST AND THOMAS ST', 'EASTLAKE AVE E BETWEEN ALOHA ST AND WARD ST', 'ROY ST BETWEEN FAIRVIEW AVE N AND MINOR AVE N'], 2: ['FAIRVIEW NR AVE N BETWEEN FAIRVIEW PL N AND ALOHA ST'], 3: ['15TH AVE NE BETWEEN NE 43RD ST AND NE 45TH ST', '1ST AVE BETWEEN BELL ST AND BATTERY ST', '2ND AVE BETWEEN LENORA ST AND BLANCHARD ST', 'BOYLSTON AVE BETWEEN E PIKE ST AND E PINE ST', 'FAIRVIEW AVE N BETWEEN JOHN ST AND THOMAS ST']}\n"
          ]
        }
      ]
    },
    {
      "cell_type": "code",
      "source": [
        "pca_2d = PCA(n_components=2)\n",
        "pc = pca_2d.fit_transform(corr_matrix)"
      ],
      "metadata": {
        "id": "80b8V924zZqA"
      },
      "execution_count": 33,
      "outputs": []
    },
    {
      "cell_type": "code",
      "source": [
        "colors = ['b', 'g', 'r', 'm']\n",
        "color_map = [colors[i] for i in clusters]\n",
        "\n",
        "plt.figure(figsize=(10,6))\n",
        "plt.scatter(pc[:,0], pc[:,1], color=color_map)\n",
        "plt.title(\"Parking Occupancy Difference Clusters\", fontsize=20)\n",
        "plt.ylabel(\"Principle Component 2\", fontsize=15)\n",
        "plt.xlabel(\"Principle Component 1\", fontsize=15)\n",
        "plt.show()"
      ],
      "metadata": {
        "colab": {
          "base_uri": "https://localhost:8080/",
          "height": 414
        },
        "id": "yMhqChpi0C41",
        "outputId": "faa3fcb6-35dd-4c3c-be6d-aed8bde3d890"
      },
      "execution_count": 39,
      "outputs": [
        {
          "output_type": "display_data",
          "data": {
            "text/plain": [
              "<Figure size 720x432 with 1 Axes>"
            ],
            "image/png": "[encoded data removed]"
          },
          "metadata": {
            "needs_background": "light"
          }
        }
      ]
    },
    {
      "cell_type": "code",
      "source": [],
      "metadata": {
        "id": "vOI-VCPw0Fbo"
      },
      "execution_count": null,
      "outputs": []
    }
  ]
}